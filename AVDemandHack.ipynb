{
  "nbformat": 4,
  "nbformat_minor": 0,
  "metadata": {
    "colab": {
      "name": "AVDemandHack.ipynb",
      "provenance": [],
      "mount_file_id": "13i-fTbbnQz82G_CJZV2ENtqt8_JpozPJ",
      "authorship_tag": "ABX9TyOTlZOJbpwcOTkwPfhRlJwD",
      "include_colab_link": true
    },
    "kernelspec": {
      "name": "python3",
      "display_name": "Python 3"
    }
  },
  "cells": [
    {
      "cell_type": "markdown",
      "metadata": {
        "id": "view-in-github",
        "colab_type": "text"
      },
      "source": [
        "<a href=\"https://colab.research.google.com/github/ravichandranNa/AJ_ML_Library/blob/master/AVDemandHack.ipynb\" target=\"_parent\"><img src=\"https://colab.research.google.com/assets/colab-badge.svg\" alt=\"Open In Colab\"/></a>"
      ]
    },
    {
      "cell_type": "code",
      "metadata": {
        "id": "SujouH845rUM"
      },
      "source": [
        ""
      ],
      "execution_count": null,
      "outputs": []
    },
    {
      "cell_type": "code",
      "metadata": {
        "id": "YWvRuEyECNB5"
      },
      "source": [
        "import pandas as pd\n",
        "import numpy as np\n",
        "import matplotlib.pyplot as plt\n",
        "import seaborn as sns\n",
        "from scipy import stats\n",
        "from scipy.stats import norm\n",
        "from sklearn.model_selection import train_test_split\n"
      ],
      "execution_count": null,
      "outputs": []
    },
    {
      "cell_type": "code",
      "metadata": {
        "id": "MvrWJaNaCwm3"
      },
      "source": [
        "demand_train = pd.read_csv('/content/drive/My Drive/demand forecasting/train_0irEZ2H.csv')\n",
        "demand_test = pd.read_csv('/content/drive/My Drive/demand forecasting/test_nfaJ3J5.csv')"
      ],
      "execution_count": null,
      "outputs": []
    },
    {
      "cell_type": "code",
      "metadata": {
        "id": "P35WVqpFsYZg"
      },
      "source": [
        "demand_test.set_index('record_ID',inplace=True)\n",
        "demand_train.set_index('record_ID',inplace=True)"
      ],
      "execution_count": null,
      "outputs": []
    },
    {
      "cell_type": "code",
      "metadata": {
        "id": "m4Ta1VHqpRau"
      },
      "source": [
        "demand_test['week'] = pd.to_datetime(demand_test['week'])\n",
        "demand_train['week'] = pd.to_datetime(demand_train['week'])"
      ],
      "execution_count": null,
      "outputs": []
    },
    {
      "cell_type": "code",
      "metadata": {
        "id": "zgFqEz3aot7p"
      },
      "source": [
        "def convert_dates(x):\n",
        "    x['date']=pd.to_datetime(x['week'])\n",
        "    x['month']=x['week'].dt.month\n",
        "    x['year']=x['week'].dt.year\n",
        "    x['dayofweek']=x['week'].dt.dayofweek\n",
        "    x.pop('week')\n",
        "    return x"
      ],
      "execution_count": null,
      "outputs": []
    },
    {
      "cell_type": "code",
      "metadata": {
        "id": "XEdy6OGwot3m"
      },
      "source": [
        "df = convert_dates(demand_train)\n",
        "df_test = convert_dates(demand_test)"
      ],
      "execution_count": null,
      "outputs": []
    },
    {
      "cell_type": "code",
      "metadata": {
        "id": "aUX2wjf5si47"
      },
      "source": [
        "demand_test.drop('date',axis=1,inplace=True)\n",
        "demand_train.drop('date',axis=1,inplace=True)"
      ],
      "execution_count": null,
      "outputs": []
    },
    {
      "cell_type": "code",
      "metadata": {
        "id": "_ti8QCIaotzp"
      },
      "source": [
        "# def add_avg(x):\n",
        "#     x['daily_avg']=x.groupby(['sku_id','store_id','dayofweek'])['units_sold'].transform('mean')\n",
        "#     x['monthly_avg']=x.groupby(['sku_id','store_id','month'])['units_sold'].transform('mean')\n",
        "#     return x\n",
        "# df = add_avg(df)\n"
      ],
      "execution_count": null,
      "outputs": []
    },
    {
      "cell_type": "code",
      "metadata": {
        "id": "htIBJoFiotvh",
        "outputId": "8184e6c5-4bcf-42fd-d012-bc39e98b2dc4",
        "colab": {
          "base_uri": "https://localhost:8080/",
          "height": 137
        }
      },
      "source": [
        "df.head(2)"
      ],
      "execution_count": null,
      "outputs": [
        {
          "output_type": "execute_result",
          "data": {
            "text/html": [
              "<div>\n",
              "<style scoped>\n",
              "    .dataframe tbody tr th:only-of-type {\n",
              "        vertical-align: middle;\n",
              "    }\n",
              "\n",
              "    .dataframe tbody tr th {\n",
              "        vertical-align: top;\n",
              "    }\n",
              "\n",
              "    .dataframe thead th {\n",
              "        text-align: right;\n",
              "    }\n",
              "</style>\n",
              "<table border=\"1\" class=\"dataframe\">\n",
              "  <thead>\n",
              "    <tr style=\"text-align: right;\">\n",
              "      <th></th>\n",
              "      <th>store_id</th>\n",
              "      <th>sku_id</th>\n",
              "      <th>total_price</th>\n",
              "      <th>base_price</th>\n",
              "      <th>is_featured_sku</th>\n",
              "      <th>is_display_sku</th>\n",
              "      <th>units_sold</th>\n",
              "      <th>month</th>\n",
              "      <th>year</th>\n",
              "      <th>dayofweek</th>\n",
              "    </tr>\n",
              "    <tr>\n",
              "      <th>record_ID</th>\n",
              "      <th></th>\n",
              "      <th></th>\n",
              "      <th></th>\n",
              "      <th></th>\n",
              "      <th></th>\n",
              "      <th></th>\n",
              "      <th></th>\n",
              "      <th></th>\n",
              "      <th></th>\n",
              "      <th></th>\n",
              "    </tr>\n",
              "  </thead>\n",
              "  <tbody>\n",
              "    <tr>\n",
              "      <th>1</th>\n",
              "      <td>8091</td>\n",
              "      <td>216418</td>\n",
              "      <td>99.0375</td>\n",
              "      <td>111.8625</td>\n",
              "      <td>0</td>\n",
              "      <td>0</td>\n",
              "      <td>20</td>\n",
              "      <td>1</td>\n",
              "      <td>2011</td>\n",
              "      <td>0</td>\n",
              "    </tr>\n",
              "    <tr>\n",
              "      <th>2</th>\n",
              "      <td>8091</td>\n",
              "      <td>216419</td>\n",
              "      <td>99.0375</td>\n",
              "      <td>99.0375</td>\n",
              "      <td>0</td>\n",
              "      <td>0</td>\n",
              "      <td>28</td>\n",
              "      <td>1</td>\n",
              "      <td>2011</td>\n",
              "      <td>0</td>\n",
              "    </tr>\n",
              "  </tbody>\n",
              "</table>\n",
              "</div>"
            ],
            "text/plain": [
              "           store_id  sku_id  total_price  ...  month  year  dayofweek\n",
              "record_ID                                 ...                        \n",
              "1              8091  216418      99.0375  ...      1  2011          0\n",
              "2              8091  216419      99.0375  ...      1  2011          0\n",
              "\n",
              "[2 rows x 10 columns]"
            ]
          },
          "metadata": {
            "tags": []
          },
          "execution_count": 107
        }
      ]
    },
    {
      "cell_type": "code",
      "metadata": {
        "id": "OINpOKr6otrl"
      },
      "source": [
        "# daily_avg = df.groupby(['sku_id','store_id','dayofweek'])['units_sold'].mean().reset_index()\n",
        "# monthly_avg = df.groupby(['sku_id','store_id','month'])['units_sold'].mean().reset_index()"
      ],
      "execution_count": null,
      "outputs": []
    },
    {
      "cell_type": "code",
      "metadata": {
        "id": "IhTSonSqotnx"
      },
      "source": [
        "# def merge(x,y,col,col_name):\n",
        "#     x =pd.merge(x, y, how='left', on=None, left_on=col, right_on=col,\n",
        "#             left_index=False, right_index=False, sort=True,\n",
        "#              copy=True, indicator=False,validate=None)\n",
        "#     x=x.rename(columns={'units_sold':col_name})\n",
        "#     return x\n",
        "# df_test=merge(df_test, daily_avg,['sku_id','store_id','dayofweek'],'daily_avg')\n",
        "# df_test=merge(df_test, monthly_avg,['sku_id','store_id','month'],'monthly_avg')"
      ],
      "execution_count": null,
      "outputs": []
    },
    {
      "cell_type": "code",
      "metadata": {
        "id": "8uFQy076otj-"
      },
      "source": [
        "demand_train['total_price'] = np.log(demand_train['total_price']+10)\n",
        "demand_train['base_price'] = np.log(demand_train['base_price']+10)\n",
        "demand_train['units_sold'] = np.log(demand_train['units_sold']+10)\n",
        "demand_test['total_price'] = np.log(demand_test['total_price']+10)\n",
        "demand_test['base_price'] = np.log(demand_test['base_price']+10)"
      ],
      "execution_count": null,
      "outputs": []
    },
    {
      "cell_type": "code",
      "metadata": {
        "id": "-6LF2QXZotgC",
        "outputId": "c8617cdc-557a-4e58-a2e3-12c625afc2f1",
        "colab": {
          "base_uri": "https://localhost:8080/",
          "height": 137
        }
      },
      "source": [
        "df_test.head(2)"
      ],
      "execution_count": null,
      "outputs": [
        {
          "output_type": "execute_result",
          "data": {
            "text/html": [
              "<div>\n",
              "<style scoped>\n",
              "    .dataframe tbody tr th:only-of-type {\n",
              "        vertical-align: middle;\n",
              "    }\n",
              "\n",
              "    .dataframe tbody tr th {\n",
              "        vertical-align: top;\n",
              "    }\n",
              "\n",
              "    .dataframe thead th {\n",
              "        text-align: right;\n",
              "    }\n",
              "</style>\n",
              "<table border=\"1\" class=\"dataframe\">\n",
              "  <thead>\n",
              "    <tr style=\"text-align: right;\">\n",
              "      <th></th>\n",
              "      <th>store_id</th>\n",
              "      <th>sku_id</th>\n",
              "      <th>total_price</th>\n",
              "      <th>base_price</th>\n",
              "      <th>is_featured_sku</th>\n",
              "      <th>is_display_sku</th>\n",
              "      <th>month</th>\n",
              "      <th>year</th>\n",
              "      <th>dayofweek</th>\n",
              "    </tr>\n",
              "    <tr>\n",
              "      <th>record_ID</th>\n",
              "      <th></th>\n",
              "      <th></th>\n",
              "      <th></th>\n",
              "      <th></th>\n",
              "      <th></th>\n",
              "      <th></th>\n",
              "      <th></th>\n",
              "      <th></th>\n",
              "      <th></th>\n",
              "    </tr>\n",
              "  </thead>\n",
              "  <tbody>\n",
              "    <tr>\n",
              "      <th>212645</th>\n",
              "      <td>8091</td>\n",
              "      <td>216418</td>\n",
              "      <td>4.773224</td>\n",
              "      <td>4.773224</td>\n",
              "      <td>0</td>\n",
              "      <td>0</td>\n",
              "      <td>7</td>\n",
              "      <td>2013</td>\n",
              "      <td>1</td>\n",
              "    </tr>\n",
              "    <tr>\n",
              "      <th>212646</th>\n",
              "      <td>8091</td>\n",
              "      <td>216419</td>\n",
              "      <td>4.779229</td>\n",
              "      <td>4.779229</td>\n",
              "      <td>0</td>\n",
              "      <td>0</td>\n",
              "      <td>7</td>\n",
              "      <td>2013</td>\n",
              "      <td>1</td>\n",
              "    </tr>\n",
              "  </tbody>\n",
              "</table>\n",
              "</div>"
            ],
            "text/plain": [
              "           store_id  sku_id  total_price  ...  month  year  dayofweek\n",
              "record_ID                                 ...                        \n",
              "212645         8091  216418     4.773224  ...      7  2013          1\n",
              "212646         8091  216419     4.779229  ...      7  2013          1\n",
              "\n",
              "[2 rows x 9 columns]"
            ]
          },
          "metadata": {
            "tags": []
          },
          "execution_count": 111
        }
      ]
    },
    {
      "cell_type": "code",
      "metadata": {
        "id": "LqAxiMeeotb2"
      },
      "source": [
        "x_train,x_test,y_train,y_test = train_test_split(df.drop('units_sold',axis=1),df.pop('units_sold'),random_state=123,test_size=0.2)"
      ],
      "execution_count": null,
      "outputs": []
    },
    {
      "cell_type": "code",
      "metadata": {
        "id": "c1sF2TugotV8",
        "outputId": "a7e39a86-0601-4bcb-e897-a2cc581d1f02",
        "colab": {
          "base_uri": "https://localhost:8080/",
          "height": 1000
        }
      },
      "source": [
        "import xgboost as xgb\n",
        "def XGBmodel(x_train,x_test,y_train,y_test):\n",
        "    matrix_train = xgb.DMatrix(x_train,label=y_train)\n",
        "    matrix_test = xgb.DMatrix(x_test,label=y_test)\n",
        "    model=xgb.train(params={'objective':'reg:linear','eval_metric':'mae'}\n",
        "                    ,dtrain=matrix_train,num_boost_round=500, \n",
        "                    early_stopping_rounds=20,evals=[(matrix_test,'test')],)\n",
        "    return model\n",
        "\n",
        "model=XGBmodel(x_train,x_test,y_train,y_test)"
      ],
      "execution_count": null,
      "outputs": [
        {
          "output_type": "stream",
          "text": [
            "[06:43:33] WARNING: /workspace/src/objective/regression_obj.cu:152: reg:linear is now deprecated in favor of reg:squarederror.\n",
            "[0]\ttest-mae:2.35805\n",
            "Will train until test-mae hasn't improved in 20 rounds.\n",
            "[1]\ttest-mae:1.65141\n",
            "[2]\ttest-mae:1.15781\n",
            "[3]\ttest-mae:0.824955\n",
            "[4]\ttest-mae:0.615932\n",
            "[5]\ttest-mae:0.49135\n",
            "[6]\ttest-mae:0.419509\n",
            "[7]\ttest-mae:0.381011\n",
            "[8]\ttest-mae:0.350805\n",
            "[9]\ttest-mae:0.336364\n",
            "[10]\ttest-mae:0.326935\n",
            "[11]\ttest-mae:0.321178\n",
            "[12]\ttest-mae:0.311766\n",
            "[13]\ttest-mae:0.307996\n",
            "[14]\ttest-mae:0.303241\n",
            "[15]\ttest-mae:0.300346\n",
            "[16]\ttest-mae:0.296833\n",
            "[17]\ttest-mae:0.291063\n",
            "[18]\ttest-mae:0.290084\n",
            "[19]\ttest-mae:0.288216\n",
            "[20]\ttest-mae:0.286157\n",
            "[21]\ttest-mae:0.28466\n",
            "[22]\ttest-mae:0.279992\n",
            "[23]\ttest-mae:0.27886\n",
            "[24]\ttest-mae:0.275945\n",
            "[25]\ttest-mae:0.274803\n",
            "[26]\ttest-mae:0.271476\n",
            "[27]\ttest-mae:0.270596\n",
            "[28]\ttest-mae:0.269711\n",
            "[29]\ttest-mae:0.268391\n",
            "[30]\ttest-mae:0.265494\n",
            "[31]\ttest-mae:0.263538\n",
            "[32]\ttest-mae:0.261915\n",
            "[33]\ttest-mae:0.261098\n",
            "[34]\ttest-mae:0.259277\n",
            "[35]\ttest-mae:0.258601\n",
            "[36]\ttest-mae:0.25632\n",
            "[37]\ttest-mae:0.255271\n",
            "[38]\ttest-mae:0.254129\n",
            "[39]\ttest-mae:0.253392\n",
            "[40]\ttest-mae:0.252824\n",
            "[41]\ttest-mae:0.252309\n",
            "[42]\ttest-mae:0.25121\n",
            "[43]\ttest-mae:0.250552\n",
            "[44]\ttest-mae:0.250313\n",
            "[45]\ttest-mae:0.249412\n",
            "[46]\ttest-mae:0.248097\n",
            "[47]\ttest-mae:0.247257\n",
            "[48]\ttest-mae:0.245692\n",
            "[49]\ttest-mae:0.245225\n",
            "[50]\ttest-mae:0.244641\n",
            "[51]\ttest-mae:0.243293\n",
            "[52]\ttest-mae:0.242872\n",
            "[53]\ttest-mae:0.242212\n",
            "[54]\ttest-mae:0.241303\n",
            "[55]\ttest-mae:0.241039\n",
            "[56]\ttest-mae:0.240591\n",
            "[57]\ttest-mae:0.240049\n",
            "[58]\ttest-mae:0.239514\n",
            "[59]\ttest-mae:0.239148\n",
            "[60]\ttest-mae:0.238478\n",
            "[61]\ttest-mae:0.238294\n",
            "[62]\ttest-mae:0.237942\n",
            "[63]\ttest-mae:0.237486\n",
            "[64]\ttest-mae:0.236573\n",
            "[65]\ttest-mae:0.235687\n",
            "[66]\ttest-mae:0.234702\n",
            "[67]\ttest-mae:0.234449\n",
            "[68]\ttest-mae:0.234241\n",
            "[69]\ttest-mae:0.234063\n",
            "[70]\ttest-mae:0.233633\n",
            "[71]\ttest-mae:0.232928\n",
            "[72]\ttest-mae:0.232461\n",
            "[73]\ttest-mae:0.232154\n",
            "[74]\ttest-mae:0.231883\n",
            "[75]\ttest-mae:0.231501\n",
            "[76]\ttest-mae:0.231145\n",
            "[77]\ttest-mae:0.230729\n",
            "[78]\ttest-mae:0.230271\n",
            "[79]\ttest-mae:0.230128\n",
            "[80]\ttest-mae:0.22974\n",
            "[81]\ttest-mae:0.229266\n",
            "[82]\ttest-mae:0.228538\n",
            "[83]\ttest-mae:0.22817\n",
            "[84]\ttest-mae:0.227371\n",
            "[85]\ttest-mae:0.227044\n",
            "[86]\ttest-mae:0.226762\n",
            "[87]\ttest-mae:0.226488\n",
            "[88]\ttest-mae:0.226004\n",
            "[89]\ttest-mae:0.225753\n",
            "[90]\ttest-mae:0.225444\n",
            "[91]\ttest-mae:0.22541\n",
            "[92]\ttest-mae:0.225136\n",
            "[93]\ttest-mae:0.224891\n",
            "[94]\ttest-mae:0.224759\n",
            "[95]\ttest-mae:0.224526\n",
            "[96]\ttest-mae:0.224382\n",
            "[97]\ttest-mae:0.224293\n",
            "[98]\ttest-mae:0.223754\n",
            "[99]\ttest-mae:0.223487\n",
            "[100]\ttest-mae:0.223244\n",
            "[101]\ttest-mae:0.223078\n",
            "[102]\ttest-mae:0.223062\n",
            "[103]\ttest-mae:0.222817\n",
            "[104]\ttest-mae:0.222505\n",
            "[105]\ttest-mae:0.222384\n",
            "[106]\ttest-mae:0.222236\n",
            "[107]\ttest-mae:0.222218\n",
            "[108]\ttest-mae:0.221802\n",
            "[109]\ttest-mae:0.221575\n",
            "[110]\ttest-mae:0.221341\n",
            "[111]\ttest-mae:0.221232\n",
            "[112]\ttest-mae:0.22097\n",
            "[113]\ttest-mae:0.220523\n",
            "[114]\ttest-mae:0.220428\n",
            "[115]\ttest-mae:0.21997\n",
            "[116]\ttest-mae:0.219738\n",
            "[117]\ttest-mae:0.219212\n",
            "[118]\ttest-mae:0.219158\n",
            "[119]\ttest-mae:0.219092\n",
            "[120]\ttest-mae:0.218819\n",
            "[121]\ttest-mae:0.218715\n",
            "[122]\ttest-mae:0.21848\n",
            "[123]\ttest-mae:0.21837\n",
            "[124]\ttest-mae:0.218286\n",
            "[125]\ttest-mae:0.218139\n",
            "[126]\ttest-mae:0.21816\n",
            "[127]\ttest-mae:0.217963\n",
            "[128]\ttest-mae:0.217745\n",
            "[129]\ttest-mae:0.217754\n",
            "[130]\ttest-mae:0.217295\n",
            "[131]\ttest-mae:0.217201\n",
            "[132]\ttest-mae:0.217124\n",
            "[133]\ttest-mae:0.216812\n",
            "[134]\ttest-mae:0.216658\n",
            "[135]\ttest-mae:0.216547\n",
            "[136]\ttest-mae:0.216438\n",
            "[137]\ttest-mae:0.216346\n",
            "[138]\ttest-mae:0.216076\n",
            "[139]\ttest-mae:0.215939\n",
            "[140]\ttest-mae:0.215944\n",
            "[141]\ttest-mae:0.215897\n",
            "[142]\ttest-mae:0.215898\n",
            "[143]\ttest-mae:0.215842\n",
            "[144]\ttest-mae:0.215723\n",
            "[145]\ttest-mae:0.215471\n",
            "[146]\ttest-mae:0.215341\n",
            "[147]\ttest-mae:0.215262\n",
            "[148]\ttest-mae:0.215178\n",
            "[149]\ttest-mae:0.215057\n",
            "[150]\ttest-mae:0.214791\n",
            "[151]\ttest-mae:0.214704\n",
            "[152]\ttest-mae:0.21456\n",
            "[153]\ttest-mae:0.214468\n",
            "[154]\ttest-mae:0.214302\n",
            "[155]\ttest-mae:0.213888\n",
            "[156]\ttest-mae:0.213802\n",
            "[157]\ttest-mae:0.213513\n",
            "[158]\ttest-mae:0.213429\n",
            "[159]\ttest-mae:0.213292\n",
            "[160]\ttest-mae:0.2129\n",
            "[161]\ttest-mae:0.212541\n",
            "[162]\ttest-mae:0.212486\n",
            "[163]\ttest-mae:0.212445\n",
            "[164]\ttest-mae:0.212415\n",
            "[165]\ttest-mae:0.212182\n",
            "[166]\ttest-mae:0.212164\n",
            "[167]\ttest-mae:0.211951\n",
            "[168]\ttest-mae:0.211888\n",
            "[169]\ttest-mae:0.211846\n",
            "[170]\ttest-mae:0.211663\n",
            "[171]\ttest-mae:0.211438\n",
            "[172]\ttest-mae:0.211377\n",
            "[173]\ttest-mae:0.211054\n",
            "[174]\ttest-mae:0.21097\n",
            "[175]\ttest-mae:0.210905\n",
            "[176]\ttest-mae:0.210782\n",
            "[177]\ttest-mae:0.210725\n",
            "[178]\ttest-mae:0.210562\n",
            "[179]\ttest-mae:0.210547\n",
            "[180]\ttest-mae:0.210402\n",
            "[181]\ttest-mae:0.210284\n",
            "[182]\ttest-mae:0.210054\n",
            "[183]\ttest-mae:0.209993\n",
            "[184]\ttest-mae:0.209976\n",
            "[185]\ttest-mae:0.209979\n",
            "[186]\ttest-mae:0.209919\n",
            "[187]\ttest-mae:0.209691\n",
            "[188]\ttest-mae:0.209659\n",
            "[189]\ttest-mae:0.20966\n",
            "[190]\ttest-mae:0.209489\n",
            "[191]\ttest-mae:0.209437\n",
            "[192]\ttest-mae:0.209259\n",
            "[193]\ttest-mae:0.209164\n",
            "[194]\ttest-mae:0.209141\n",
            "[195]\ttest-mae:0.209059\n",
            "[196]\ttest-mae:0.208849\n",
            "[197]\ttest-mae:0.208612\n",
            "[198]\ttest-mae:0.208583\n",
            "[199]\ttest-mae:0.208257\n",
            "[200]\ttest-mae:0.208249\n",
            "[201]\ttest-mae:0.208221\n",
            "[202]\ttest-mae:0.208169\n",
            "[203]\ttest-mae:0.208093\n",
            "[204]\ttest-mae:0.208051\n",
            "[205]\ttest-mae:0.208021\n",
            "[206]\ttest-mae:0.207896\n",
            "[207]\ttest-mae:0.207872\n",
            "[208]\ttest-mae:0.207843\n",
            "[209]\ttest-mae:0.207784\n",
            "[210]\ttest-mae:0.207679\n",
            "[211]\ttest-mae:0.207648\n",
            "[212]\ttest-mae:0.20751\n",
            "[213]\ttest-mae:0.207482\n",
            "[214]\ttest-mae:0.207443\n",
            "[215]\ttest-mae:0.207331\n",
            "[216]\ttest-mae:0.207256\n",
            "[217]\ttest-mae:0.20721\n",
            "[218]\ttest-mae:0.207212\n",
            "[219]\ttest-mae:0.20721\n",
            "[220]\ttest-mae:0.207219\n",
            "[221]\ttest-mae:0.207199\n",
            "[222]\ttest-mae:0.207135\n",
            "[223]\ttest-mae:0.207128\n",
            "[224]\ttest-mae:0.207018\n",
            "[225]\ttest-mae:0.206946\n",
            "[226]\ttest-mae:0.206842\n",
            "[227]\ttest-mae:0.206653\n",
            "[228]\ttest-mae:0.206412\n",
            "[229]\ttest-mae:0.206362\n",
            "[230]\ttest-mae:0.206191\n",
            "[231]\ttest-mae:0.206147\n",
            "[232]\ttest-mae:0.20607\n",
            "[233]\ttest-mae:0.205892\n",
            "[234]\ttest-mae:0.205884\n",
            "[235]\ttest-mae:0.205858\n",
            "[236]\ttest-mae:0.205825\n",
            "[237]\ttest-mae:0.205822\n",
            "[238]\ttest-mae:0.205675\n",
            "[239]\ttest-mae:0.20555\n",
            "[240]\ttest-mae:0.205546\n",
            "[241]\ttest-mae:0.205494\n",
            "[242]\ttest-mae:0.205395\n",
            "[243]\ttest-mae:0.205277\n",
            "[244]\ttest-mae:0.20526\n",
            "[245]\ttest-mae:0.205242\n",
            "[246]\ttest-mae:0.205244\n",
            "[247]\ttest-mae:0.205239\n",
            "[248]\ttest-mae:0.20524\n",
            "[249]\ttest-mae:0.205063\n",
            "[250]\ttest-mae:0.205064\n",
            "[251]\ttest-mae:0.205054\n",
            "[252]\ttest-mae:0.204934\n",
            "[253]\ttest-mae:0.204929\n",
            "[254]\ttest-mae:0.204883\n",
            "[255]\ttest-mae:0.204808\n",
            "[256]\ttest-mae:0.204755\n",
            "[257]\ttest-mae:0.204615\n",
            "[258]\ttest-mae:0.2046\n",
            "[259]\ttest-mae:0.204436\n",
            "[260]\ttest-mae:0.204395\n",
            "[261]\ttest-mae:0.20431\n",
            "[262]\ttest-mae:0.204306\n",
            "[263]\ttest-mae:0.204318\n",
            "[264]\ttest-mae:0.204273\n",
            "[265]\ttest-mae:0.204119\n",
            "[266]\ttest-mae:0.204067\n",
            "[267]\ttest-mae:0.203906\n",
            "[268]\ttest-mae:0.203876\n",
            "[269]\ttest-mae:0.203893\n",
            "[270]\ttest-mae:0.203869\n",
            "[271]\ttest-mae:0.203879\n",
            "[272]\ttest-mae:0.203763\n",
            "[273]\ttest-mae:0.20369\n",
            "[274]\ttest-mae:0.203669\n",
            "[275]\ttest-mae:0.203613\n",
            "[276]\ttest-mae:0.20361\n",
            "[277]\ttest-mae:0.203569\n",
            "[278]\ttest-mae:0.20351\n",
            "[279]\ttest-mae:0.203421\n",
            "[280]\ttest-mae:0.203327\n",
            "[281]\ttest-mae:0.203237\n",
            "[282]\ttest-mae:0.203186\n",
            "[283]\ttest-mae:0.203153\n",
            "[284]\ttest-mae:0.202879\n",
            "[285]\ttest-mae:0.202808\n",
            "[286]\ttest-mae:0.202804\n",
            "[287]\ttest-mae:0.202771\n",
            "[288]\ttest-mae:0.202699\n",
            "[289]\ttest-mae:0.202626\n",
            "[290]\ttest-mae:0.202617\n",
            "[291]\ttest-mae:0.202597\n",
            "[292]\ttest-mae:0.202523\n",
            "[293]\ttest-mae:0.202489\n",
            "[294]\ttest-mae:0.20241\n",
            "[295]\ttest-mae:0.202347\n",
            "[296]\ttest-mae:0.202275\n",
            "[297]\ttest-mae:0.202121\n",
            "[298]\ttest-mae:0.202047\n",
            "[299]\ttest-mae:0.202012\n",
            "[300]\ttest-mae:0.201894\n",
            "[301]\ttest-mae:0.201866\n",
            "[302]\ttest-mae:0.20187\n",
            "[303]\ttest-mae:0.201808\n",
            "[304]\ttest-mae:0.201791\n",
            "[305]\ttest-mae:0.201782\n",
            "[306]\ttest-mae:0.201777\n",
            "[307]\ttest-mae:0.201717\n",
            "[308]\ttest-mae:0.201705\n",
            "[309]\ttest-mae:0.2017\n",
            "[310]\ttest-mae:0.20167\n",
            "[311]\ttest-mae:0.201658\n",
            "[312]\ttest-mae:0.201661\n",
            "[313]\ttest-mae:0.201542\n",
            "[314]\ttest-mae:0.201518\n",
            "[315]\ttest-mae:0.20148\n",
            "[316]\ttest-mae:0.201483\n",
            "[317]\ttest-mae:0.201365\n",
            "[318]\ttest-mae:0.201346\n",
            "[319]\ttest-mae:0.201304\n",
            "[320]\ttest-mae:0.201275\n",
            "[321]\ttest-mae:0.201239\n",
            "[322]\ttest-mae:0.201217\n",
            "[323]\ttest-mae:0.201141\n",
            "[324]\ttest-mae:0.201138\n",
            "[325]\ttest-mae:0.201112\n",
            "[326]\ttest-mae:0.201091\n",
            "[327]\ttest-mae:0.201055\n",
            "[328]\ttest-mae:0.201049\n",
            "[329]\ttest-mae:0.201048\n",
            "[330]\ttest-mae:0.200972\n",
            "[331]\ttest-mae:0.200905\n",
            "[332]\ttest-mae:0.200876\n",
            "[333]\ttest-mae:0.200872\n",
            "[334]\ttest-mae:0.20086\n",
            "[335]\ttest-mae:0.200823\n",
            "[336]\ttest-mae:0.200779\n",
            "[337]\ttest-mae:0.200752\n",
            "[338]\ttest-mae:0.200703\n",
            "[339]\ttest-mae:0.2007\n",
            "[340]\ttest-mae:0.200601\n",
            "[341]\ttest-mae:0.20059\n",
            "[342]\ttest-mae:0.200576\n",
            "[343]\ttest-mae:0.200547\n",
            "[344]\ttest-mae:0.20047\n",
            "[345]\ttest-mae:0.200453\n",
            "[346]\ttest-mae:0.200398\n",
            "[347]\ttest-mae:0.200337\n",
            "[348]\ttest-mae:0.200313\n",
            "[349]\ttest-mae:0.200276\n",
            "[350]\ttest-mae:0.200203\n",
            "[351]\ttest-mae:0.200197\n",
            "[352]\ttest-mae:0.200188\n",
            "[353]\ttest-mae:0.200067\n",
            "[354]\ttest-mae:0.200014\n",
            "[355]\ttest-mae:0.199927\n",
            "[356]\ttest-mae:0.199876\n",
            "[357]\ttest-mae:0.19988\n",
            "[358]\ttest-mae:0.199844\n",
            "[359]\ttest-mae:0.199827\n",
            "[360]\ttest-mae:0.199833\n",
            "[361]\ttest-mae:0.199784\n",
            "[362]\ttest-mae:0.19976\n",
            "[363]\ttest-mae:0.199696\n",
            "[364]\ttest-mae:0.199688\n",
            "[365]\ttest-mae:0.199682\n",
            "[366]\ttest-mae:0.19968\n",
            "[367]\ttest-mae:0.19967\n",
            "[368]\ttest-mae:0.199688\n",
            "[369]\ttest-mae:0.199633\n",
            "[370]\ttest-mae:0.19957\n",
            "[371]\ttest-mae:0.199548\n",
            "[372]\ttest-mae:0.199501\n",
            "[373]\ttest-mae:0.199499\n",
            "[374]\ttest-mae:0.199485\n",
            "[375]\ttest-mae:0.199403\n",
            "[376]\ttest-mae:0.199368\n",
            "[377]\ttest-mae:0.199345\n",
            "[378]\ttest-mae:0.199347\n",
            "[379]\ttest-mae:0.19932\n",
            "[380]\ttest-mae:0.199299\n",
            "[381]\ttest-mae:0.199219\n",
            "[382]\ttest-mae:0.199203\n",
            "[383]\ttest-mae:0.199187\n",
            "[384]\ttest-mae:0.199167\n",
            "[385]\ttest-mae:0.199156\n",
            "[386]\ttest-mae:0.199147\n",
            "[387]\ttest-mae:0.199116\n",
            "[388]\ttest-mae:0.199111\n",
            "[389]\ttest-mae:0.199097\n",
            "[390]\ttest-mae:0.199101\n",
            "[391]\ttest-mae:0.199084\n",
            "[392]\ttest-mae:0.199093\n",
            "[393]\ttest-mae:0.199048\n",
            "[394]\ttest-mae:0.198979\n",
            "[395]\ttest-mae:0.198907\n",
            "[396]\ttest-mae:0.198921\n",
            "[397]\ttest-mae:0.198871\n",
            "[398]\ttest-mae:0.198867\n",
            "[399]\ttest-mae:0.198846\n",
            "[400]\ttest-mae:0.198823\n",
            "[401]\ttest-mae:0.198823\n",
            "[402]\ttest-mae:0.198787\n",
            "[403]\ttest-mae:0.198787\n",
            "[404]\ttest-mae:0.198738\n",
            "[405]\ttest-mae:0.198744\n",
            "[406]\ttest-mae:0.198742\n",
            "[407]\ttest-mae:0.198712\n",
            "[408]\ttest-mae:0.198725\n",
            "[409]\ttest-mae:0.198699\n",
            "[410]\ttest-mae:0.198691\n",
            "[411]\ttest-mae:0.198674\n",
            "[412]\ttest-mae:0.198653\n",
            "[413]\ttest-mae:0.198636\n",
            "[414]\ttest-mae:0.19861\n",
            "[415]\ttest-mae:0.198618\n",
            "[416]\ttest-mae:0.19857\n",
            "[417]\ttest-mae:0.198482\n",
            "[418]\ttest-mae:0.198477\n",
            "[419]\ttest-mae:0.198484\n",
            "[420]\ttest-mae:0.198443\n",
            "[421]\ttest-mae:0.198395\n",
            "[422]\ttest-mae:0.198411\n",
            "[423]\ttest-mae:0.198366\n",
            "[424]\ttest-mae:0.198359\n",
            "[425]\ttest-mae:0.198354\n",
            "[426]\ttest-mae:0.198284\n",
            "[427]\ttest-mae:0.198235\n",
            "[428]\ttest-mae:0.198231\n",
            "[429]\ttest-mae:0.198214\n",
            "[430]\ttest-mae:0.198214\n",
            "[431]\ttest-mae:0.198216\n",
            "[432]\ttest-mae:0.198183\n",
            "[433]\ttest-mae:0.198177\n",
            "[434]\ttest-mae:0.198162\n",
            "[435]\ttest-mae:0.198157\n",
            "[436]\ttest-mae:0.198151\n",
            "[437]\ttest-mae:0.198149\n",
            "[438]\ttest-mae:0.198149\n",
            "[439]\ttest-mae:0.198153\n",
            "[440]\ttest-mae:0.198096\n",
            "[441]\ttest-mae:0.198095\n",
            "[442]\ttest-mae:0.198089\n",
            "[443]\ttest-mae:0.198101\n",
            "[444]\ttest-mae:0.19811\n",
            "[445]\ttest-mae:0.198098\n",
            "[446]\ttest-mae:0.198096\n",
            "[447]\ttest-mae:0.198094\n",
            "[448]\ttest-mae:0.198087\n",
            "[449]\ttest-mae:0.198102\n",
            "[450]\ttest-mae:0.198052\n",
            "[451]\ttest-mae:0.198041\n",
            "[452]\ttest-mae:0.198025\n",
            "[453]\ttest-mae:0.197982\n",
            "[454]\ttest-mae:0.197985\n",
            "[455]\ttest-mae:0.197959\n",
            "[456]\ttest-mae:0.197969\n",
            "[457]\ttest-mae:0.19798\n",
            "[458]\ttest-mae:0.19798\n",
            "[459]\ttest-mae:0.197961\n",
            "[460]\ttest-mae:0.19797\n",
            "[461]\ttest-mae:0.197943\n",
            "[462]\ttest-mae:0.19793\n",
            "[463]\ttest-mae:0.197927\n",
            "[464]\ttest-mae:0.197924\n",
            "[465]\ttest-mae:0.197837\n",
            "[466]\ttest-mae:0.197825\n",
            "[467]\ttest-mae:0.197818\n",
            "[468]\ttest-mae:0.197802\n",
            "[469]\ttest-mae:0.197761\n",
            "[470]\ttest-mae:0.197741\n",
            "[471]\ttest-mae:0.197712\n",
            "[472]\ttest-mae:0.197689\n",
            "[473]\ttest-mae:0.197654\n",
            "[474]\ttest-mae:0.197644\n",
            "[475]\ttest-mae:0.197628\n",
            "[476]\ttest-mae:0.197567\n",
            "[477]\ttest-mae:0.197568\n",
            "[478]\ttest-mae:0.19758\n",
            "[479]\ttest-mae:0.197575\n",
            "[480]\ttest-mae:0.197544\n",
            "[481]\ttest-mae:0.197502\n",
            "[482]\ttest-mae:0.197495\n",
            "[483]\ttest-mae:0.197497\n",
            "[484]\ttest-mae:0.197508\n",
            "[485]\ttest-mae:0.197513\n",
            "[486]\ttest-mae:0.197493\n",
            "[487]\ttest-mae:0.197456\n",
            "[488]\ttest-mae:0.197451\n",
            "[489]\ttest-mae:0.197444\n",
            "[490]\ttest-mae:0.197361\n",
            "[491]\ttest-mae:0.197333\n",
            "[492]\ttest-mae:0.197318\n",
            "[493]\ttest-mae:0.197306\n",
            "[494]\ttest-mae:0.197308\n",
            "[495]\ttest-mae:0.197288\n",
            "[496]\ttest-mae:0.19727\n",
            "[497]\ttest-mae:0.197254\n",
            "[498]\ttest-mae:0.197231\n",
            "[499]\ttest-mae:0.197169\n"
          ],
          "name": "stdout"
        }
      ]
    },
    {
      "cell_type": "code",
      "metadata": {
        "id": "GN6_kdOJotSj"
      },
      "source": [
        "y_pred = model.predict(xgb.DMatrix(df_test), ntree_limit = model.best_ntree_limit)\n",
        "submission = pd.DataFrame(index=demand_test.index)\n",
        "\n",
        "submission['units_sold']= np.exp(y_pred).round()\n",
        "\n",
        "submission.to_csv('submission2.csv',index=False)"
      ],
      "execution_count": null,
      "outputs": []
    },
    {
      "cell_type": "code",
      "metadata": {
        "id": "YxwaOUBiotO7",
        "outputId": "d48a04b5-4073-4032-f1d5-54408199c804",
        "colab": {
          "base_uri": "https://localhost:8080/",
          "height": 287
        }
      },
      "source": [
        "submission.head(7)"
      ],
      "execution_count": null,
      "outputs": [
        {
          "output_type": "execute_result",
          "data": {
            "text/html": [
              "<div>\n",
              "<style scoped>\n",
              "    .dataframe tbody tr th:only-of-type {\n",
              "        vertical-align: middle;\n",
              "    }\n",
              "\n",
              "    .dataframe tbody tr th {\n",
              "        vertical-align: top;\n",
              "    }\n",
              "\n",
              "    .dataframe thead th {\n",
              "        text-align: right;\n",
              "    }\n",
              "</style>\n",
              "<table border=\"1\" class=\"dataframe\">\n",
              "  <thead>\n",
              "    <tr style=\"text-align: right;\">\n",
              "      <th></th>\n",
              "      <th>units_sold</th>\n",
              "    </tr>\n",
              "    <tr>\n",
              "      <th>record_ID</th>\n",
              "      <th></th>\n",
              "    </tr>\n",
              "  </thead>\n",
              "  <tbody>\n",
              "    <tr>\n",
              "      <th>212645</th>\n",
              "      <td>30.0</td>\n",
              "    </tr>\n",
              "    <tr>\n",
              "      <th>212646</th>\n",
              "      <td>31.0</td>\n",
              "    </tr>\n",
              "    <tr>\n",
              "      <th>212647</th>\n",
              "      <td>33.0</td>\n",
              "    </tr>\n",
              "    <tr>\n",
              "      <th>212648</th>\n",
              "      <td>37.0</td>\n",
              "    </tr>\n",
              "    <tr>\n",
              "      <th>212649</th>\n",
              "      <td>31.0</td>\n",
              "    </tr>\n",
              "    <tr>\n",
              "      <th>212653</th>\n",
              "      <td>35.0</td>\n",
              "    </tr>\n",
              "    <tr>\n",
              "      <th>212654</th>\n",
              "      <td>47.0</td>\n",
              "    </tr>\n",
              "  </tbody>\n",
              "</table>\n",
              "</div>"
            ],
            "text/plain": [
              "           units_sold\n",
              "record_ID            \n",
              "212645           30.0\n",
              "212646           31.0\n",
              "212647           33.0\n",
              "212648           37.0\n",
              "212649           31.0\n",
              "212653           35.0\n",
              "212654           47.0"
            ]
          },
          "metadata": {
            "tags": []
          },
          "execution_count": 94
        }
      ]
    },
    {
      "cell_type": "code",
      "metadata": {
        "id": "aRdGTzQEotLj"
      },
      "source": [
        ""
      ],
      "execution_count": null,
      "outputs": []
    },
    {
      "cell_type": "code",
      "metadata": {
        "id": "jZu-R2FeotH0"
      },
      "source": [
        ""
      ],
      "execution_count": null,
      "outputs": []
    },
    {
      "cell_type": "code",
      "metadata": {
        "id": "OkMfYaHUotEh"
      },
      "source": [
        ""
      ],
      "execution_count": null,
      "outputs": []
    },
    {
      "cell_type": "code",
      "metadata": {
        "id": "qvC_9ajHotBM"
      },
      "source": [
        ""
      ],
      "execution_count": null,
      "outputs": []
    },
    {
      "cell_type": "code",
      "metadata": {
        "id": "9uaVMlMYos9k"
      },
      "source": [
        ""
      ],
      "execution_count": null,
      "outputs": []
    },
    {
      "cell_type": "code",
      "metadata": {
        "id": "zd-v0sbGos54"
      },
      "source": [
        ""
      ],
      "execution_count": null,
      "outputs": []
    },
    {
      "cell_type": "code",
      "metadata": {
        "id": "I6R8Zz8xos2j"
      },
      "source": [
        ""
      ],
      "execution_count": null,
      "outputs": []
    },
    {
      "cell_type": "code",
      "metadata": {
        "id": "-HE-hIT_osy8"
      },
      "source": [
        ""
      ],
      "execution_count": null,
      "outputs": []
    },
    {
      "cell_type": "code",
      "metadata": {
        "id": "VKKZIYTsosvY"
      },
      "source": [
        ""
      ],
      "execution_count": null,
      "outputs": []
    },
    {
      "cell_type": "code",
      "metadata": {
        "id": "2CUz4D5Wosqo"
      },
      "source": [
        ""
      ],
      "execution_count": null,
      "outputs": []
    },
    {
      "cell_type": "code",
      "metadata": {
        "id": "4LzYUKVaDAJF",
        "outputId": "292e95c7-938d-4da7-d30f-1f26a02eca08",
        "colab": {
          "base_uri": "https://localhost:8080/",
          "height": 107
        }
      },
      "source": [
        "demand_train.head(2)"
      ],
      "execution_count": null,
      "outputs": [
        {
          "output_type": "execute_result",
          "data": {
            "text/html": [
              "<div>\n",
              "<style scoped>\n",
              "    .dataframe tbody tr th:only-of-type {\n",
              "        vertical-align: middle;\n",
              "    }\n",
              "\n",
              "    .dataframe tbody tr th {\n",
              "        vertical-align: top;\n",
              "    }\n",
              "\n",
              "    .dataframe thead th {\n",
              "        text-align: right;\n",
              "    }\n",
              "</style>\n",
              "<table border=\"1\" class=\"dataframe\">\n",
              "  <thead>\n",
              "    <tr style=\"text-align: right;\">\n",
              "      <th></th>\n",
              "      <th>record_ID</th>\n",
              "      <th>week</th>\n",
              "      <th>store_id</th>\n",
              "      <th>sku_id</th>\n",
              "      <th>total_price</th>\n",
              "      <th>base_price</th>\n",
              "      <th>is_featured_sku</th>\n",
              "      <th>is_display_sku</th>\n",
              "      <th>units_sold</th>\n",
              "    </tr>\n",
              "  </thead>\n",
              "  <tbody>\n",
              "    <tr>\n",
              "      <th>0</th>\n",
              "      <td>1</td>\n",
              "      <td>17/01/11</td>\n",
              "      <td>8091</td>\n",
              "      <td>216418</td>\n",
              "      <td>99.0375</td>\n",
              "      <td>111.8625</td>\n",
              "      <td>0</td>\n",
              "      <td>0</td>\n",
              "      <td>20</td>\n",
              "    </tr>\n",
              "    <tr>\n",
              "      <th>1</th>\n",
              "      <td>2</td>\n",
              "      <td>17/01/11</td>\n",
              "      <td>8091</td>\n",
              "      <td>216419</td>\n",
              "      <td>99.0375</td>\n",
              "      <td>99.0375</td>\n",
              "      <td>0</td>\n",
              "      <td>0</td>\n",
              "      <td>28</td>\n",
              "    </tr>\n",
              "  </tbody>\n",
              "</table>\n",
              "</div>"
            ],
            "text/plain": [
              "   record_ID      week  store_id  ...  is_featured_sku  is_display_sku  units_sold\n",
              "0          1  17/01/11      8091  ...                0               0          20\n",
              "1          2  17/01/11      8091  ...                0               0          28\n",
              "\n",
              "[2 rows x 9 columns]"
            ]
          },
          "metadata": {
            "tags": []
          },
          "execution_count": 3
        }
      ]
    },
    {
      "cell_type": "code",
      "metadata": {
        "id": "cuDcyLsP6ABY",
        "outputId": "1bacd025-5908-4424-e72f-6a93e9a56fa1",
        "colab": {
          "base_uri": "https://localhost:8080/",
          "height": 107
        }
      },
      "source": [
        "demand_test.head(2)"
      ],
      "execution_count": null,
      "outputs": [
        {
          "output_type": "execute_result",
          "data": {
            "text/html": [
              "<div>\n",
              "<style scoped>\n",
              "    .dataframe tbody tr th:only-of-type {\n",
              "        vertical-align: middle;\n",
              "    }\n",
              "\n",
              "    .dataframe tbody tr th {\n",
              "        vertical-align: top;\n",
              "    }\n",
              "\n",
              "    .dataframe thead th {\n",
              "        text-align: right;\n",
              "    }\n",
              "</style>\n",
              "<table border=\"1\" class=\"dataframe\">\n",
              "  <thead>\n",
              "    <tr style=\"text-align: right;\">\n",
              "      <th></th>\n",
              "      <th>record_ID</th>\n",
              "      <th>week</th>\n",
              "      <th>store_id</th>\n",
              "      <th>sku_id</th>\n",
              "      <th>total_price</th>\n",
              "      <th>base_price</th>\n",
              "      <th>is_featured_sku</th>\n",
              "      <th>is_display_sku</th>\n",
              "    </tr>\n",
              "  </thead>\n",
              "  <tbody>\n",
              "    <tr>\n",
              "      <th>0</th>\n",
              "      <td>212645</td>\n",
              "      <td>16/07/13</td>\n",
              "      <td>8091</td>\n",
              "      <td>216418</td>\n",
              "      <td>108.3000</td>\n",
              "      <td>108.3000</td>\n",
              "      <td>0</td>\n",
              "      <td>0</td>\n",
              "    </tr>\n",
              "    <tr>\n",
              "      <th>1</th>\n",
              "      <td>212646</td>\n",
              "      <td>16/07/13</td>\n",
              "      <td>8091</td>\n",
              "      <td>216419</td>\n",
              "      <td>109.0125</td>\n",
              "      <td>109.0125</td>\n",
              "      <td>0</td>\n",
              "      <td>0</td>\n",
              "    </tr>\n",
              "  </tbody>\n",
              "</table>\n",
              "</div>"
            ],
            "text/plain": [
              "   record_ID      week  store_id  ...  base_price  is_featured_sku  is_display_sku\n",
              "0     212645  16/07/13      8091  ...    108.3000                0               0\n",
              "1     212646  16/07/13      8091  ...    109.0125                0               0\n",
              "\n",
              "[2 rows x 8 columns]"
            ]
          },
          "metadata": {
            "tags": []
          },
          "execution_count": 4
        }
      ]
    },
    {
      "cell_type": "code",
      "metadata": {
        "id": "Kq7xzueZ6D5I"
      },
      "source": [
        ""
      ],
      "execution_count": null,
      "outputs": []
    },
    {
      "cell_type": "code",
      "metadata": {
        "id": "r79eDpfx6RMt",
        "outputId": "0a1ab8ed-8644-4712-b4a3-198a3de05d25",
        "colab": {
          "base_uri": "https://localhost:8080/",
          "height": 52
        }
      },
      "source": [
        "# Skewness and Kurtosis\n",
        "print(\"Skewness : %f\" % demand_train['units_sold'].skew())\n",
        "print(\"Kurtosis : %f\" % demand_train['units_sold'].kurt())"
      ],
      "execution_count": null,
      "outputs": [
        {
          "output_type": "stream",
          "text": [
            "Skewness : 6.114996\n",
            "Kurtosis : 93.686253\n"
          ],
          "name": "stdout"
        }
      ]
    },
    {
      "cell_type": "code",
      "metadata": {
        "id": "u7AMM7PxAjWk",
        "outputId": "64464d5f-e677-4243-b130-8113f1092f96",
        "colab": {
          "base_uri": "https://localhost:8080/",
          "height": 158
        }
      },
      "source": [
        "numeric_features = demand_train.select_dtypes(include=[np.number])\n",
        "numeric_features.dtypes"
      ],
      "execution_count": null,
      "outputs": [
        {
          "output_type": "execute_result",
          "data": {
            "text/plain": [
              "store_id             int64\n",
              "sku_id               int64\n",
              "total_price        float64\n",
              "base_price         float64\n",
              "is_featured_sku      int64\n",
              "is_display_sku       int64\n",
              "units_sold           int64\n",
              "dtype: object"
            ]
          },
          "metadata": {
            "tags": []
          },
          "execution_count": 7
        }
      ]
    },
    {
      "cell_type": "code",
      "metadata": {
        "id": "BMSCOCxpAsw8"
      },
      "source": [
        "demand_train['store_id'] = demand_train['store_id'].astype(object)\n",
        "demand_train['sku_id'] = demand_train['sku_id'].astype(object)"
      ],
      "execution_count": null,
      "outputs": []
    },
    {
      "cell_type": "code",
      "metadata": {
        "id": "O4l318GAA9Cj",
        "outputId": "85a35b11-1d20-4c5c-80b2-af146e19a4f5",
        "colab": {
          "base_uri": "https://localhost:8080/",
          "height": 123
        }
      },
      "source": [
        "print(demand_train.describe(include=['number']).loc[['min','max','mean']].T.sort_values('max'))"
      ],
      "execution_count": null,
      "outputs": [
        {
          "output_type": "stream",
          "text": [
            "                    min        max        mean\n",
            "is_featured_sku   0.000     1.0000    0.095611\n",
            "is_display_sku    0.000     1.0000    0.133200\n",
            "total_price      41.325   562.1625  206.626751\n",
            "base_price       61.275   562.1625  219.425927\n",
            "units_sold        1.000  2876.0000   51.674206\n"
          ],
          "name": "stdout"
        }
      ]
    },
    {
      "cell_type": "code",
      "metadata": {
        "id": "5vT1EOiiB50-",
        "outputId": "198141b0-c544-474f-a095-08daddbb9096",
        "colab": {
          "base_uri": "https://localhost:8080/",
          "height": 557
        }
      },
      "source": [
        "# Histogram and normal probability plot\n",
        "sns.distplot(demand_train['total_price'], fit = norm)\n",
        "fig = plt.figure()\n",
        "res = stats.probplot(demand_train['total_price'],plot = plt)"
      ],
      "execution_count": null,
      "outputs": [
        {
          "output_type": "display_data",
          "data": {
            "image/png": "[encoded data removed]",
            "text/plain": [
              "<Figure size 432x288 with 1 Axes>"
            ]
          },
          "metadata": {
            "tags": [],
            "needs_background": "light"
          }
        },
        {
          "output_type": "display_data",
          "data": {
            "image/png": "[encoded data removed]",
            "text/plain": [
              "<Figure size 432x288 with 1 Axes>"
            ]
          },
          "metadata": {
            "tags": [],
            "needs_background": "light"
          }
        }
      ]
    },
    {
      "cell_type": "code",
      "metadata": {
        "id": "Ffwc_DFNCYIA",
        "outputId": "c449675a-5c59-4713-d205-d728e1aae18d",
        "colab": {
          "base_uri": "https://localhost:8080/",
          "height": 557
        }
      },
      "source": [
        "# Histogram and normal probability plot\n",
        "sns.distplot(demand_train['units_sold'], fit = norm)\n",
        "fig = plt.figure()\n",
        "res = stats.probplot(demand_train['units_sold'],plot = plt)"
      ],
      "execution_count": null,
      "outputs": [
        {
          "output_type": "display_data",
          "data": {
            "image/png": "[encoded data removed]",
            "text/plain": [
              "<Figure size 432x288 with 1 Axes>"
            ]
          },
          "metadata": {
            "tags": [],
            "needs_background": "light"
          }
        },
        {
          "output_type": "display_data",
          "data": {
            "image/png": "[encoded data removed]",
            "text/plain": [
              "<Figure size 432x288 with 1 Axes>"
            ]
          },
          "metadata": {
            "tags": [],
            "needs_background": "light"
          }
        }
      ]
    },
    {
      "cell_type": "code",
      "metadata": {
        "id": "jD4y9Z26nDty"
      },
      "source": [
        "demand_train['total_price'] = np.log(demand_train['total_price']+10)\n",
        "demand_train['units_sold'] = np.log(demand_train['units_sold']+10)\n",
        "demand_test['total_price'] = np.log(demand_test['total_price']+10)\n"
      ],
      "execution_count": null,
      "outputs": []
    },
    {
      "cell_type": "code",
      "metadata": {
        "id": "_-Qf-XjqDSmI",
        "outputId": "308aa191-90ed-45c2-de79-785b4ad7a6e9",
        "colab": {
          "base_uri": "https://localhost:8080/",
          "height": 137
        }
      },
      "source": [
        "demand_train.head(2)"
      ],
      "execution_count": null,
      "outputs": [
        {
          "output_type": "execute_result",
          "data": {
            "text/html": [
              "<div>\n",
              "<style scoped>\n",
              "    .dataframe tbody tr th:only-of-type {\n",
              "        vertical-align: middle;\n",
              "    }\n",
              "\n",
              "    .dataframe tbody tr th {\n",
              "        vertical-align: top;\n",
              "    }\n",
              "\n",
              "    .dataframe thead th {\n",
              "        text-align: right;\n",
              "    }\n",
              "</style>\n",
              "<table border=\"1\" class=\"dataframe\">\n",
              "  <thead>\n",
              "    <tr style=\"text-align: right;\">\n",
              "      <th></th>\n",
              "      <th>week</th>\n",
              "      <th>store_id</th>\n",
              "      <th>sku_id</th>\n",
              "      <th>total_price</th>\n",
              "      <th>base_price</th>\n",
              "      <th>is_featured_sku</th>\n",
              "      <th>is_display_sku</th>\n",
              "      <th>units_sold</th>\n",
              "    </tr>\n",
              "    <tr>\n",
              "      <th>record_ID</th>\n",
              "      <th></th>\n",
              "      <th></th>\n",
              "      <th></th>\n",
              "      <th></th>\n",
              "      <th></th>\n",
              "      <th></th>\n",
              "      <th></th>\n",
              "      <th></th>\n",
              "    </tr>\n",
              "  </thead>\n",
              "  <tbody>\n",
              "    <tr>\n",
              "      <th>1</th>\n",
              "      <td>17/01/11</td>\n",
              "      <td>8091</td>\n",
              "      <td>216418</td>\n",
              "      <td>4.691692</td>\n",
              "      <td>111.8625</td>\n",
              "      <td>0</td>\n",
              "      <td>0</td>\n",
              "      <td>3.401197</td>\n",
              "    </tr>\n",
              "    <tr>\n",
              "      <th>2</th>\n",
              "      <td>17/01/11</td>\n",
              "      <td>8091</td>\n",
              "      <td>216419</td>\n",
              "      <td>4.691692</td>\n",
              "      <td>99.0375</td>\n",
              "      <td>0</td>\n",
              "      <td>0</td>\n",
              "      <td>3.637586</td>\n",
              "    </tr>\n",
              "  </tbody>\n",
              "</table>\n",
              "</div>"
            ],
            "text/plain": [
              "               week store_id  ... is_display_sku  units_sold\n",
              "record_ID                     ...                           \n",
              "1          17/01/11     8091  ...              0    3.401197\n",
              "2          17/01/11     8091  ...              0    3.637586\n",
              "\n",
              "[2 rows x 8 columns]"
            ]
          },
          "metadata": {
            "tags": []
          },
          "execution_count": 13
        }
      ]
    },
    {
      "cell_type": "code",
      "metadata": {
        "id": "AIrJQvPxnDt_"
      },
      "source": [
        "demand_test.drop('base_price',axis=1,inplace=True)\n",
        "demand_train.drop('base_price',axis=1,inplace=True)\n"
      ],
      "execution_count": null,
      "outputs": []
    },
    {
      "cell_type": "code",
      "metadata": {
        "id": "eeB1diR4DdPw"
      },
      "source": [
        "from sklearn.model_selection import train_test_split\n",
        "def split_data(train_data,test_data):\n",
        "    train_data['week'] = pd.to_datetime(train_data['week'])\n",
        "    test_data['week'] = pd.to_datetime(test_data['week'])\n",
        "\n",
        "    train_data['month'] = train_data['week'].dt.month\n",
        "    train_data['day'] = train_data['week'].dt.dayofweek\n",
        "    train_data['year'] = train_data['week'].dt.year\n",
        "\n",
        "    test_data['month'] = test_data['week'].dt.month\n",
        "    test_data['day'] = test_data['week'].dt.dayofweek\n",
        "    test_data['year'] = test_data['week'].dt.year\n",
        "          \n",
        "\n",
        "    col = [i for i in test_data.columns if i not in ['week']]\n",
        "    y = 'units_sold'\n",
        " \n",
        "    demand_train.dropna(inplace=True) \n",
        "    train_x, test_x, train_y, test_y = train_test_split(train_data[col],train_data[y], test_size=0.2, random_state=2018)\n",
        "    return (train_x, test_x, train_y, test_y,col)\n",
        "\n",
        "train_x, test_x, train_y, test_y,col = split_data(demand_train,demand_test)"
      ],
      "execution_count": null,
      "outputs": []
    },
    {
      "cell_type": "code",
      "metadata": {
        "id": "fl-en_YHFlqk"
      },
      "source": [
        "demand_test.drop('week',inplace=True,axis=1)\n",
        "demand_train.drop('week',inplace=True,axis=1) "
      ],
      "execution_count": null,
      "outputs": []
    },
    {
      "cell_type": "code",
      "metadata": {
        "id": "BGvWlLOCE8Ip",
        "outputId": "7002020b-c4e1-4997-dbb9-a7fe700eb143",
        "colab": {
          "base_uri": "https://localhost:8080/",
          "height": 137
        }
      },
      "source": [
        "demand_train.head(2)"
      ],
      "execution_count": null,
      "outputs": [
        {
          "output_type": "execute_result",
          "data": {
            "text/html": [
              "<div>\n",
              "<style scoped>\n",
              "    .dataframe tbody tr th:only-of-type {\n",
              "        vertical-align: middle;\n",
              "    }\n",
              "\n",
              "    .dataframe tbody tr th {\n",
              "        vertical-align: top;\n",
              "    }\n",
              "\n",
              "    .dataframe thead th {\n",
              "        text-align: right;\n",
              "    }\n",
              "</style>\n",
              "<table border=\"1\" class=\"dataframe\">\n",
              "  <thead>\n",
              "    <tr style=\"text-align: right;\">\n",
              "      <th></th>\n",
              "      <th>store_id</th>\n",
              "      <th>sku_id</th>\n",
              "      <th>total_price</th>\n",
              "      <th>is_featured_sku</th>\n",
              "      <th>is_display_sku</th>\n",
              "      <th>units_sold</th>\n",
              "      <th>month</th>\n",
              "      <th>day</th>\n",
              "      <th>year</th>\n",
              "    </tr>\n",
              "    <tr>\n",
              "      <th>record_ID</th>\n",
              "      <th></th>\n",
              "      <th></th>\n",
              "      <th></th>\n",
              "      <th></th>\n",
              "      <th></th>\n",
              "      <th></th>\n",
              "      <th></th>\n",
              "      <th></th>\n",
              "      <th></th>\n",
              "    </tr>\n",
              "  </thead>\n",
              "  <tbody>\n",
              "    <tr>\n",
              "      <th>1</th>\n",
              "      <td>8091</td>\n",
              "      <td>216418</td>\n",
              "      <td>4.691692</td>\n",
              "      <td>0</td>\n",
              "      <td>0</td>\n",
              "      <td>3.401197</td>\n",
              "      <td>1</td>\n",
              "      <td>0</td>\n",
              "      <td>2011</td>\n",
              "    </tr>\n",
              "    <tr>\n",
              "      <th>2</th>\n",
              "      <td>8091</td>\n",
              "      <td>216419</td>\n",
              "      <td>4.691692</td>\n",
              "      <td>0</td>\n",
              "      <td>0</td>\n",
              "      <td>3.637586</td>\n",
              "      <td>1</td>\n",
              "      <td>0</td>\n",
              "      <td>2011</td>\n",
              "    </tr>\n",
              "  </tbody>\n",
              "</table>\n",
              "</div>"
            ],
            "text/plain": [
              "          store_id  sku_id  total_price  ...  month  day  year\n",
              "record_ID                                ...                  \n",
              "1             8091  216418     4.691692  ...      1    0  2011\n",
              "2             8091  216419     4.691692  ...      1    0  2011\n",
              "\n",
              "[2 rows x 9 columns]"
            ]
          },
          "metadata": {
            "tags": []
          },
          "execution_count": 17
        }
      ]
    },
    {
      "cell_type": "code",
      "metadata": {
        "id": "N-5PL4IaFgoO"
      },
      "source": [
        "demand_train.drop('year',inplace=True,axis=1)\n",
        "demand_test.drop('year',inplace=True,axis=1)"
      ],
      "execution_count": null,
      "outputs": []
    },
    {
      "cell_type": "code",
      "metadata": {
        "id": "eXtWtKM6F67X",
        "outputId": "46131a01-c7aa-442d-c862-550235315e12",
        "colab": {
          "base_uri": "https://localhost:8080/",
          "height": 137
        }
      },
      "source": [
        "demand_test.head(2)"
      ],
      "execution_count": null,
      "outputs": [
        {
          "output_type": "execute_result",
          "data": {
            "text/html": [
              "<div>\n",
              "<style scoped>\n",
              "    .dataframe tbody tr th:only-of-type {\n",
              "        vertical-align: middle;\n",
              "    }\n",
              "\n",
              "    .dataframe tbody tr th {\n",
              "        vertical-align: top;\n",
              "    }\n",
              "\n",
              "    .dataframe thead th {\n",
              "        text-align: right;\n",
              "    }\n",
              "</style>\n",
              "<table border=\"1\" class=\"dataframe\">\n",
              "  <thead>\n",
              "    <tr style=\"text-align: right;\">\n",
              "      <th></th>\n",
              "      <th>store_id</th>\n",
              "      <th>sku_id</th>\n",
              "      <th>total_price</th>\n",
              "      <th>is_featured_sku</th>\n",
              "      <th>is_display_sku</th>\n",
              "      <th>month</th>\n",
              "      <th>day</th>\n",
              "    </tr>\n",
              "    <tr>\n",
              "      <th>record_ID</th>\n",
              "      <th></th>\n",
              "      <th></th>\n",
              "      <th></th>\n",
              "      <th></th>\n",
              "      <th></th>\n",
              "      <th></th>\n",
              "      <th></th>\n",
              "    </tr>\n",
              "  </thead>\n",
              "  <tbody>\n",
              "    <tr>\n",
              "      <th>212645</th>\n",
              "      <td>8091</td>\n",
              "      <td>216418</td>\n",
              "      <td>4.773224</td>\n",
              "      <td>0</td>\n",
              "      <td>0</td>\n",
              "      <td>7</td>\n",
              "      <td>1</td>\n",
              "    </tr>\n",
              "    <tr>\n",
              "      <th>212646</th>\n",
              "      <td>8091</td>\n",
              "      <td>216419</td>\n",
              "      <td>4.779229</td>\n",
              "      <td>0</td>\n",
              "      <td>0</td>\n",
              "      <td>7</td>\n",
              "      <td>1</td>\n",
              "    </tr>\n",
              "  </tbody>\n",
              "</table>\n",
              "</div>"
            ],
            "text/plain": [
              "           store_id  sku_id  total_price  ...  is_display_sku  month  day\n",
              "record_ID                                 ...                            \n",
              "212645         8091  216418     4.773224  ...               0      7    1\n",
              "212646         8091  216419     4.779229  ...               0      7    1\n",
              "\n",
              "[2 rows x 7 columns]"
            ]
          },
          "metadata": {
            "tags": []
          },
          "execution_count": 19
        }
      ]
    },
    {
      "cell_type": "code",
      "metadata": {
        "id": "eS8_eFOWGKWu"
      },
      "source": [
        "from sklearn.preprocessing import LabelEncoder\n",
        "# instantiate labelencoder object\n",
        "le = LabelEncoder()"
      ],
      "execution_count": null,
      "outputs": []
    },
    {
      "cell_type": "code",
      "metadata": {
        "id": "L2IRT18mGyej",
        "outputId": "2b5c6cd1-2a78-4098-f793-c2f5e28c90b9",
        "colab": {
          "base_uri": "https://localhost:8080/",
          "height": 137
        }
      },
      "source": [
        "demand_test[['store_id','sku_id']] = demand_test[['store_id','sku_id']].apply(lambda col: le.fit_transform(col))\n",
        "demand_test.head(2)"
      ],
      "execution_count": null,
      "outputs": [
        {
          "output_type": "execute_result",
          "data": {
            "text/html": [
              "<div>\n",
              "<style scoped>\n",
              "    .dataframe tbody tr th:only-of-type {\n",
              "        vertical-align: middle;\n",
              "    }\n",
              "\n",
              "    .dataframe tbody tr th {\n",
              "        vertical-align: top;\n",
              "    }\n",
              "\n",
              "    .dataframe thead th {\n",
              "        text-align: right;\n",
              "    }\n",
              "</style>\n",
              "<table border=\"1\" class=\"dataframe\">\n",
              "  <thead>\n",
              "    <tr style=\"text-align: right;\">\n",
              "      <th></th>\n",
              "      <th>store_id</th>\n",
              "      <th>sku_id</th>\n",
              "      <th>total_price</th>\n",
              "      <th>base_price</th>\n",
              "      <th>is_featured_sku</th>\n",
              "      <th>is_display_sku</th>\n",
              "      <th>month</th>\n",
              "      <th>year</th>\n",
              "      <th>dayofweek</th>\n",
              "    </tr>\n",
              "    <tr>\n",
              "      <th>record_ID</th>\n",
              "      <th></th>\n",
              "      <th></th>\n",
              "      <th></th>\n",
              "      <th></th>\n",
              "      <th></th>\n",
              "      <th></th>\n",
              "      <th></th>\n",
              "      <th></th>\n",
              "      <th></th>\n",
              "    </tr>\n",
              "  </thead>\n",
              "  <tbody>\n",
              "    <tr>\n",
              "      <th>212645</th>\n",
              "      <td>3</td>\n",
              "      <td>1</td>\n",
              "      <td>4.773224</td>\n",
              "      <td>4.773224</td>\n",
              "      <td>0</td>\n",
              "      <td>0</td>\n",
              "      <td>7</td>\n",
              "      <td>2013</td>\n",
              "      <td>1</td>\n",
              "    </tr>\n",
              "    <tr>\n",
              "      <th>212646</th>\n",
              "      <td>3</td>\n",
              "      <td>2</td>\n",
              "      <td>4.779229</td>\n",
              "      <td>4.779229</td>\n",
              "      <td>0</td>\n",
              "      <td>0</td>\n",
              "      <td>7</td>\n",
              "      <td>2013</td>\n",
              "      <td>1</td>\n",
              "    </tr>\n",
              "  </tbody>\n",
              "</table>\n",
              "</div>"
            ],
            "text/plain": [
              "           store_id  sku_id  total_price  ...  month  year  dayofweek\n",
              "record_ID                                 ...                        \n",
              "212645            3       1     4.773224  ...      7  2013          1\n",
              "212646            3       2     4.779229  ...      7  2013          1\n",
              "\n",
              "[2 rows x 9 columns]"
            ]
          },
          "metadata": {
            "tags": []
          },
          "execution_count": 113
        }
      ]
    },
    {
      "cell_type": "code",
      "metadata": {
        "id": "qC1A-wxVHPSy",
        "outputId": "e6f743ed-695f-42ee-ac75-257c0ab3a547",
        "colab": {
          "base_uri": "https://localhost:8080/",
          "height": 137
        }
      },
      "source": [
        "\n",
        "demand_train[['store_id','sku_id']] = demand_train[['store_id','sku_id']].apply(lambda col: le.fit_transform(col))\n",
        "demand_train.head(2)"
      ],
      "execution_count": null,
      "outputs": [
        {
          "output_type": "execute_result",
          "data": {
            "text/html": [
              "<div>\n",
              "<style scoped>\n",
              "    .dataframe tbody tr th:only-of-type {\n",
              "        vertical-align: middle;\n",
              "    }\n",
              "\n",
              "    .dataframe tbody tr th {\n",
              "        vertical-align: top;\n",
              "    }\n",
              "\n",
              "    .dataframe thead th {\n",
              "        text-align: right;\n",
              "    }\n",
              "</style>\n",
              "<table border=\"1\" class=\"dataframe\">\n",
              "  <thead>\n",
              "    <tr style=\"text-align: right;\">\n",
              "      <th></th>\n",
              "      <th>store_id</th>\n",
              "      <th>sku_id</th>\n",
              "      <th>total_price</th>\n",
              "      <th>base_price</th>\n",
              "      <th>is_featured_sku</th>\n",
              "      <th>is_display_sku</th>\n",
              "      <th>units_sold</th>\n",
              "      <th>month</th>\n",
              "      <th>year</th>\n",
              "      <th>dayofweek</th>\n",
              "    </tr>\n",
              "    <tr>\n",
              "      <th>record_ID</th>\n",
              "      <th></th>\n",
              "      <th></th>\n",
              "      <th></th>\n",
              "      <th></th>\n",
              "      <th></th>\n",
              "      <th></th>\n",
              "      <th></th>\n",
              "      <th></th>\n",
              "      <th></th>\n",
              "      <th></th>\n",
              "    </tr>\n",
              "  </thead>\n",
              "  <tbody>\n",
              "    <tr>\n",
              "      <th>1</th>\n",
              "      <td>3</td>\n",
              "      <td>1</td>\n",
              "      <td>4.691692</td>\n",
              "      <td>4.802893</td>\n",
              "      <td>0</td>\n",
              "      <td>0</td>\n",
              "      <td>3.401197</td>\n",
              "      <td>1</td>\n",
              "      <td>2011</td>\n",
              "      <td>0</td>\n",
              "    </tr>\n",
              "    <tr>\n",
              "      <th>2</th>\n",
              "      <td>3</td>\n",
              "      <td>2</td>\n",
              "      <td>4.691692</td>\n",
              "      <td>4.691692</td>\n",
              "      <td>0</td>\n",
              "      <td>0</td>\n",
              "      <td>3.637586</td>\n",
              "      <td>1</td>\n",
              "      <td>2011</td>\n",
              "      <td>0</td>\n",
              "    </tr>\n",
              "  </tbody>\n",
              "</table>\n",
              "</div>"
            ],
            "text/plain": [
              "           store_id  sku_id  total_price  ...  month  year  dayofweek\n",
              "record_ID                                 ...                        \n",
              "1                 3       1     4.691692  ...      1  2011          0\n",
              "2                 3       2     4.691692  ...      1  2011          0\n",
              "\n",
              "[2 rows x 10 columns]"
            ]
          },
          "metadata": {
            "tags": []
          },
          "execution_count": 114
        }
      ]
    },
    {
      "cell_type": "code",
      "metadata": {
        "id": "fZGwvMs7IFgS",
        "outputId": "d1d9f4f7-6ec8-4b34-be95-4888a7fe79f3",
        "colab": {
          "base_uri": "https://localhost:8080/",
          "height": 137
        }
      },
      "source": [
        "demand_test.head(2)"
      ],
      "execution_count": null,
      "outputs": [
        {
          "output_type": "execute_result",
          "data": {
            "text/html": [
              "<div>\n",
              "<style scoped>\n",
              "    .dataframe tbody tr th:only-of-type {\n",
              "        vertical-align: middle;\n",
              "    }\n",
              "\n",
              "    .dataframe tbody tr th {\n",
              "        vertical-align: top;\n",
              "    }\n",
              "\n",
              "    .dataframe thead th {\n",
              "        text-align: right;\n",
              "    }\n",
              "</style>\n",
              "<table border=\"1\" class=\"dataframe\">\n",
              "  <thead>\n",
              "    <tr style=\"text-align: right;\">\n",
              "      <th></th>\n",
              "      <th>store_id</th>\n",
              "      <th>sku_id</th>\n",
              "      <th>total_price</th>\n",
              "      <th>base_price</th>\n",
              "      <th>is_featured_sku</th>\n",
              "      <th>is_display_sku</th>\n",
              "      <th>month</th>\n",
              "      <th>year</th>\n",
              "      <th>dayofweek</th>\n",
              "    </tr>\n",
              "    <tr>\n",
              "      <th>record_ID</th>\n",
              "      <th></th>\n",
              "      <th></th>\n",
              "      <th></th>\n",
              "      <th></th>\n",
              "      <th></th>\n",
              "      <th></th>\n",
              "      <th></th>\n",
              "      <th></th>\n",
              "      <th></th>\n",
              "    </tr>\n",
              "  </thead>\n",
              "  <tbody>\n",
              "    <tr>\n",
              "      <th>212645</th>\n",
              "      <td>3</td>\n",
              "      <td>1</td>\n",
              "      <td>4.773224</td>\n",
              "      <td>4.773224</td>\n",
              "      <td>0</td>\n",
              "      <td>0</td>\n",
              "      <td>7</td>\n",
              "      <td>2013</td>\n",
              "      <td>1</td>\n",
              "    </tr>\n",
              "    <tr>\n",
              "      <th>212646</th>\n",
              "      <td>3</td>\n",
              "      <td>2</td>\n",
              "      <td>4.779229</td>\n",
              "      <td>4.779229</td>\n",
              "      <td>0</td>\n",
              "      <td>0</td>\n",
              "      <td>7</td>\n",
              "      <td>2013</td>\n",
              "      <td>1</td>\n",
              "    </tr>\n",
              "  </tbody>\n",
              "</table>\n",
              "</div>"
            ],
            "text/plain": [
              "           store_id  sku_id  total_price  ...  month  year  dayofweek\n",
              "record_ID                                 ...                        \n",
              "212645            3       1     4.773224  ...      7  2013          1\n",
              "212646            3       2     4.779229  ...      7  2013          1\n",
              "\n",
              "[2 rows x 9 columns]"
            ]
          },
          "metadata": {
            "tags": []
          },
          "execution_count": 115
        }
      ]
    },
    {
      "cell_type": "code",
      "metadata": {
        "id": "Nrdy3wGPJRwg"
      },
      "source": [
        "def spliting_data(train_data,test_data):\n",
        "         \n",
        "\n",
        "    col = [i for i in test_data.columns if i not in ['week']]\n",
        "    y = 'units_sold'\n",
        " \n",
        "    demand_train.dropna(inplace=True) \n",
        "    train_x, test_x, train_y, test_y = train_test_split(df.drop('units_sold',axis=1),df.pop('units_sold'),random_state=123,test_size=0.2)\n",
        "    return (train_x, test_x, train_y, test_y,col)\n",
        "\n",
        "\n",
        "train_x, test_x, train_y, test_y,col = spliting_data(demand_train,demand_test)"
      ],
      "execution_count": null,
      "outputs": []
    },
    {
      "cell_type": "code",
      "metadata": {
        "id": "mi9hqv5WJral",
        "outputId": "554bf265-bc64-48ad-9622-ce0fbb82e943",
        "colab": {
          "base_uri": "https://localhost:8080/",
          "height": 34
        }
      },
      "source": [
        "train_x.shape,train_y.shape,test_x.shape"
      ],
      "execution_count": null,
      "outputs": [
        {
          "output_type": "execute_result",
          "data": {
            "text/plain": [
              "((120119, 9), (120119,), (30030, 9))"
            ]
          },
          "metadata": {
            "tags": []
          },
          "execution_count": 117
        }
      ]
    },
    {
      "cell_type": "code",
      "metadata": {
        "id": "pp8SPtYdJtt4"
      },
      "source": [
        "\n",
        "import lightgbm as lgb\n",
        "def model(train_x,train_y,test_x,test_y,col):\n",
        "    params = {\n",
        "        'nthread': 10,\n",
        "         'max_depth': 5,\n",
        "#         'max_depth': 9,\n",
        "        'task': 'train',\n",
        "        'boosting_type': 'gbdt',\n",
        "        'objective': 'regression_l1',\n",
        "        'metric': 'mape', # this is abs(a-e)/max(1,a)\n",
        "#         'num_leaves': 39,\n",
        "        'num_leaves':70,\n",
        "        'learning_rate': 0.2,\n",
        "       'feature_fraction': 0.9,\n",
        "#         'feature_fraction': 0.8108472661400657,\n",
        "#         'bagging_fraction': 0.9837558288375402,\n",
        "       'bagging_fraction': 0.8,\n",
        "        'bagging_freq': 5,\n",
        "        'lambda_l1': 3.097758978478437,\n",
        "        'lambda_l2': 2.9482537987198496,\n",
        "#       'lambda_l1': 0.06,\n",
        "#       'lambda_l2': 0.1,\n",
        "        'verbose': 1,\n",
        "        'min_child_weight': 6.996211413900573,\n",
        "        'min_split_gain': 0.037310344962162616,\n",
        "        }\n",
        "    \n",
        "    lgb_train = lgb.Dataset(train_x,train_y)\n",
        "    lgb_valid = lgb.Dataset(test_x,test_y)\n",
        "    model = lgb.train(params, lgb_train, 10000, valid_sets=[lgb_train, lgb_valid],early_stopping_rounds=50, verbose_eval=500)\n",
        "    y_test = model.predict(demand_test[col])\n",
        "    return y_test,model"
      ],
      "execution_count": null,
      "outputs": []
    },
    {
      "cell_type": "code",
      "metadata": {
        "id": "0_nkcpJZMEVh",
        "outputId": "23e22de2-b8e5-41c5-c944-fe5e158a6a38",
        "colab": {
          "base_uri": "https://localhost:8080/",
          "height": 265
        }
      },
      "source": [
        "%%time\n",
        "y_test, model = model(train_x,train_y,test_x,test_y,col)"
      ],
      "execution_count": null,
      "outputs": [
        {
          "output_type": "stream",
          "text": [
            "Training until validation scores don't improve for 50 rounds.\n",
            "[500]\ttraining's mape: 0.0549339\tvalid_1's mape: 0.0580641\n",
            "[1000]\ttraining's mape: 0.05139\tvalid_1's mape: 0.0558775\n",
            "[1500]\ttraining's mape: 0.0496463\tvalid_1's mape: 0.0551505\n",
            "[2000]\ttraining's mape: 0.048487\tvalid_1's mape: 0.0546917\n",
            "[2500]\ttraining's mape: 0.0476559\tvalid_1's mape: 0.0544229\n",
            "[3000]\ttraining's mape: 0.0469883\tvalid_1's mape: 0.0541941\n",
            "[3500]\ttraining's mape: 0.0464093\tvalid_1's mape: 0.0540032\n",
            "[4000]\ttraining's mape: 0.0459263\tvalid_1's mape: 0.0538791\n",
            "[4500]\ttraining's mape: 0.0455325\tvalid_1's mape: 0.0537726\n",
            "Early stopping, best iteration is:\n",
            "[4453]\ttraining's mape: 0.0455691\tvalid_1's mape: 0.0537714\n",
            "CPU times: user 3min 13s, sys: 33.8 s, total: 3min 47s\n",
            "Wall time: 2min 10s\n"
          ],
          "name": "stdout"
        }
      ]
    },
    {
      "cell_type": "code",
      "metadata": {
        "id": "lpcliSEbMJo1",
        "outputId": "391ade61-40f9-419e-9b06-6d071dd6ef3b",
        "colab": {
          "base_uri": "https://localhost:8080/",
          "height": 141
        }
      },
      "source": [
        "sample_df = pd.DataFrame(index=demand_test.index)\n",
        "sample_df['sales'] = np.exp(y_test).round()\n",
        "sample_df.to_csv('dm_lgb_bayasian_params.csv', index=False)\n",
        "sample_df['sales'].head()"
      ],
      "execution_count": null,
      "outputs": [
        {
          "output_type": "execute_result",
          "data": {
            "text/plain": [
              "record_ID\n",
              "212645    34.0\n",
              "212646    32.0\n",
              "212647    31.0\n",
              "212648    39.0\n",
              "212649    36.0\n",
              "Name: sales, dtype: float64"
            ]
          },
          "metadata": {
            "tags": []
          },
          "execution_count": 120
        }
      ]
    },
    {
      "cell_type": "code",
      "metadata": {
        "id": "mZKVXE6JMm1V"
      },
      "source": [
        "from sklearn.linear_model import LinearRegression,Ridge,Lasso,RidgeCV\n",
        "from sklearn.ensemble import RandomForestRegressor,BaggingRegressor,GradientBoostingRegressor,AdaBoostRegressor\n",
        "from sklearn.svm import SVR\n",
        "from sklearn.neighbors import KNeighborsRegressor\n",
        "from sklearn.model_selection import train_test_split\n",
        "from sklearn.metrics import mean_squared_log_error,mean_squared_error, r2_score,mean_absolute_error # for regression"
      ],
      "execution_count": null,
      "outputs": []
    },
    {
      "cell_type": "code",
      "metadata": {
        "id": "SrFmMG-xNgff"
      },
      "source": [
        "X = demand_train.drop('units_sold',axis=1)\n",
        "y = demand_train['units_sold']"
      ],
      "execution_count": null,
      "outputs": []
    },
    {
      "cell_type": "code",
      "metadata": {
        "id": "I7aY-hbZNZD4"
      },
      "source": [
        "x_train,x_test,y_train,y_test=train_test_split(X,y,test_size=0.25,random_state=42)"
      ],
      "execution_count": null,
      "outputs": []
    },
    {
      "cell_type": "code",
      "metadata": {
        "id": "U2SW1wThNbd0",
        "outputId": "ca2fcd5d-f945-47ed-cd1d-738240631a50",
        "colab": {
          "base_uri": "https://localhost:8080/",
          "height": 203
        }
      },
      "source": [
        "# models=[RandomForestRegressor(),AdaBoostRegressor(),BaggingRegressor(),SVR(),KNeighborsRegressor()]\n",
        "# model_names=['RandomForestRegressor','AdaBoostRegressor','BaggingRegressor','SVR','KNeighborsRegressor']\n",
        "# rmsle=[]\n",
        "# d={}\n",
        "# for model in range (len(models)):\n",
        "#     clf=models[model]\n",
        "#     clf.fit(train_x,train_y)\n",
        "#     test_pred=clf.predict(test_x)\n",
        "#     rmsle.append(np.sqrt(mean_squared_log_error(test_pred,test_y)))\n",
        "# d={'Modelling Algo':model_names,'RMSLE':rmsle}   \n",
        "d"
      ],
      "execution_count": null,
      "outputs": [
        {
          "output_type": "error",
          "ename": "NameError",
          "evalue": "ignored",
          "traceback": [
            "\u001b[0;31m---------------------------------------------------------------------------\u001b[0m",
            "\u001b[0;31mNameError\u001b[0m                                 Traceback (most recent call last)",
            "\u001b[0;32m<ipython-input-32-5e19444bbbd9>\u001b[0m in \u001b[0;36m<module>\u001b[0;34m()\u001b[0m\n\u001b[1;32m      9\u001b[0m \u001b[0;31m#     rmsle.append(np.sqrt(mean_squared_log_error(test_pred,test_y)))\u001b[0m\u001b[0;34m\u001b[0m\u001b[0;34m\u001b[0m\u001b[0;34m\u001b[0m\u001b[0m\n\u001b[1;32m     10\u001b[0m \u001b[0;31m# d={'Modelling Algo':model_names,'RMSLE':rmsle}\u001b[0m\u001b[0;34m\u001b[0m\u001b[0;34m\u001b[0m\u001b[0;34m\u001b[0m\u001b[0m\n\u001b[0;32m---> 11\u001b[0;31m \u001b[0md\u001b[0m\u001b[0;34m\u001b[0m\u001b[0;34m\u001b[0m\u001b[0m\n\u001b[0m",
            "\u001b[0;31mNameError\u001b[0m: name 'd' is not defined"
          ]
        }
      ]
    },
    {
      "cell_type": "code",
      "metadata": {
        "id": "daaPjGppWN7e"
      },
      "source": [
        "X_train,y_train,X_test,y_test = train_x,train_y,test_x,test_y"
      ],
      "execution_count": null,
      "outputs": []
    },
    {
      "cell_type": "code",
      "metadata": {
        "id": "ooYWLZFBN7q4",
        "outputId": "95116825-ccc9-4deb-c325-1a2061f29286",
        "colab": {
          "base_uri": "https://localhost:8080/",
          "height": 141
        }
      },
      "source": [
        "\n",
        "from sklearn import linear_model\n",
        "regr = linear_model.LinearRegression()\n",
        "\n",
        "# Train the model using the training sets\n",
        "regr.fit(X_train, y_train)\n",
        "\n",
        "# Make predictions using the testing set\n",
        "y_pred = regr.predict(X_test)\n",
        "print('The accuracy of the Linear Regression is',r2_score(y_test,y_pred))\n",
        "print ('RMSE is: \\n', mean_squared_error(y_test, y_pred))\n",
        "regr = linear_model.LinearRegression()\n",
        "\n",
        "# Train the model using the training sets\n",
        "regr.fit(X_train, y_train)\n",
        "\n",
        "# Make predictions using the testing set\n",
        "y_pred = regr.predict(X_test)\n",
        "print('The accuracy of the Linear Regression is',r2_score(y_test,y_pred))\n",
        "print ('RMSE is: \\n', mean_squared_error(y_test, y_pred))\n",
        "print(np.sqrt(mean_squared_log_error(y_test, y_pred)))"
      ],
      "execution_count": null,
      "outputs": [
        {
          "output_type": "stream",
          "text": [
            "The accuracy of the Linear Regression is 0.2883411836290274\n",
            "RMSE is: \n",
            " 0.31788158837901465\n",
            "The accuracy of the Linear Regression is 0.2883411836290274\n",
            "RMSE is: \n",
            " 0.31788158837901465\n",
            "0.1146202051835265\n"
          ],
          "name": "stdout"
        }
      ]
    },
    {
      "cell_type": "code",
      "metadata": {
        "id": "tIHmL2jLV-4Y"
      },
      "source": [
        "y_pred = regr.predict(demand_test)"
      ],
      "execution_count": null,
      "outputs": []
    },
    {
      "cell_type": "code",
      "metadata": {
        "id": "4-r38iXwW9C4",
        "outputId": "becd63c0-d4fd-430a-9bc1-130b3b2040e5",
        "colab": {
          "base_uri": "https://localhost:8080/",
          "height": 141
        }
      },
      "source": [
        "sample_df = pd.DataFrame(index=demand_test.index)\n",
        "sample_df['sales'] = np.exp(y_pred).round()\n",
        "sample_df.to_csv('reg.csv', index=False)\n",
        "sample_df['sales'].head()"
      ],
      "execution_count": null,
      "outputs": [
        {
          "output_type": "execute_result",
          "data": {
            "text/plain": [
              "record_ID\n",
              "212645    60.0\n",
              "212646    59.0\n",
              "212647    55.0\n",
              "212648    59.0\n",
              "212649    48.0\n",
              "Name: sales, dtype: float64"
            ]
          },
          "metadata": {
            "tags": []
          },
          "execution_count": 49
        }
      ]
    },
    {
      "cell_type": "code",
      "metadata": {
        "id": "gO-cPdCmW-hD",
        "outputId": "1e2a3402-51e1-4de6-c989-249ec8a85a37",
        "colab": {
          "base_uri": "https://localhost:8080/",
          "height": 87
        }
      },
      "source": [
        "import xgboost as xgb\n",
        "\n",
        "xg_reg = xgb.XGBRegressor(learning_rate =0.01, n_estimators=5580, \n",
        "                                     max_depth=3,min_child_weight=0 ,\n",
        "                                     gamma=0, subsample=0.7,\n",
        "                                     colsample_bytree=0.7,\n",
        "                                     objective= 'reg:linear',nthread=4,\n",
        "                                     scale_pos_weight=1,seed=27, \n",
        "                                     reg_alpha=0.00006)\n",
        "xg_reg.fit(X_train,y_train)\n",
        "\n",
        "preds = xg_reg.predict(X_test)\n",
        "print('The accuracy of the xgboost is',r2_score(y_test,preds))\n",
        "print ('RMSE is: \\n', mean_squared_error(y_test,preds))"
      ],
      "execution_count": null,
      "outputs": [
        {
          "output_type": "stream",
          "text": [
            "[14:54:06] WARNING: /workspace/src/objective/regression_obj.cu:152: reg:linear is now deprecated in favor of reg:squarederror.\n",
            "The accuracy of the xgboost is 0.7217724091593607\n",
            "RMSE is: \n",
            " 0.12427785122974622\n"
          ],
          "name": "stdout"
        }
      ]
    },
    {
      "cell_type": "code",
      "metadata": {
        "id": "I3pYtRP8YCcB",
        "outputId": "d167bccb-6919-4352-86b6-3e17fc5abf37",
        "colab": {
          "base_uri": "https://localhost:8080/",
          "height": 34
        }
      },
      "source": [
        "print(np.sqrt(mean_squared_log_error(y_test, preds)))"
      ],
      "execution_count": null,
      "outputs": [
        {
          "output_type": "stream",
          "text": [
            "0.07373490368753463\n"
          ],
          "name": "stdout"
        }
      ]
    },
    {
      "cell_type": "code",
      "metadata": {
        "id": "M0iWrF8JZQ5H"
      },
      "source": [
        "preds = xg_reg.predict(demand_test)"
      ],
      "execution_count": null,
      "outputs": []
    },
    {
      "cell_type": "code",
      "metadata": {
        "id": "aaJUrJ-uZE1o",
        "outputId": "a43b6a53-676a-430e-8869-ecd2bf479050",
        "colab": {
          "base_uri": "https://localhost:8080/",
          "height": 141
        }
      },
      "source": [
        "sample_df = pd.DataFrame(index=demand_test.index)\n",
        "sample_df['sales'] = np.exp(preds).round()\n",
        "sample_df.to_csv('xgb.csv', index=False)\n",
        "sample_df['sales'].head()"
      ],
      "execution_count": null,
      "outputs": [
        {
          "output_type": "execute_result",
          "data": {
            "text/plain": [
              "record_ID\n",
              "212645    52.0\n",
              "212646    41.0\n",
              "212647    23.0\n",
              "212648    33.0\n",
              "212649    37.0\n",
              "Name: sales, dtype: float32"
            ]
          },
          "metadata": {
            "tags": []
          },
          "execution_count": 54
        }
      ]
    },
    {
      "cell_type": "code",
      "metadata": {
        "id": "_ReB-hjJXlQD",
        "outputId": "3e5de2e7-83a3-408d-cb2d-6008d8be9f4f",
        "colab": {
          "base_uri": "https://localhost:8080/",
          "height": 87
        }
      },
      "source": [
        "from sklearn.ensemble import GradientBoostingRegressor\n",
        "gbr_model = GradientBoostingRegressor(n_estimators=4780, learning_rate=0.01,\n",
        "                                   max_depth=10, max_features='sqrt',\n",
        "                                   min_samples_leaf=1, min_samples_split=250, \n",
        "                                   loss='huber', random_state =6).fit(X_train,y_train)\n",
        "gbr_preds = gbr_model.predict(X_test)\n",
        "print('The accuracy of the Gradient boost is',r2_score(y_test,gbr_preds))\n",
        "print ('RMSE is: \\n', mean_squared_error(y_test,gbr_preds))\n",
        "print(np.sqrt(mean_squared_log_error(y_test, gbr_preds)))"
      ],
      "execution_count": null,
      "outputs": [
        {
          "output_type": "stream",
          "text": [
            "The accuracy of the Gradient boost is 0.8395742830758934\n",
            "RMSE is: \n",
            " 0.0716584696761402\n",
            "0.05668269344989678\n"
          ],
          "name": "stdout"
        }
      ]
    },
    {
      "cell_type": "code",
      "metadata": {
        "id": "i_qqWa2Dd2yU"
      },
      "source": [
        "gbr_preds = gbr_model.predict(demand_test)"
      ],
      "execution_count": null,
      "outputs": []
    },
    {
      "cell_type": "code",
      "metadata": {
        "id": "0oSwUP5RaBpW",
        "outputId": "31c12d6c-3160-4435-c7a1-8c0eb2f1544c",
        "colab": {
          "base_uri": "https://localhost:8080/",
          "height": 141
        }
      },
      "source": [
        "sample_df = pd.DataFrame(index=demand_test.index)\n",
        "sample_df['sales'] = np.exp(gbr_preds).round()\n",
        "sample_df.to_csv('gbr.csv', index=False)\n",
        "sample_df['sales'].head()"
      ],
      "execution_count": null,
      "outputs": [
        {
          "output_type": "execute_result",
          "data": {
            "text/plain": [
              "record_ID\n",
              "212645    38.0\n",
              "212646    33.0\n",
              "212647    30.0\n",
              "212648    35.0\n",
              "212649    31.0\n",
              "Name: sales, dtype: float64"
            ]
          },
          "metadata": {
            "tags": []
          },
          "execution_count": 57
        }
      ]
    },
    {
      "cell_type": "code",
      "metadata": {
        "id": "tAXx-LcCd9RK"
      },
      "source": [
        ""
      ],
      "execution_count": null,
      "outputs": []
    }
  ]
}