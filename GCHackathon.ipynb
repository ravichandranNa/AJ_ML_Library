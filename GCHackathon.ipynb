{
  "nbformat": 4,
  "nbformat_minor": 0,
  "metadata": {
    "colab": {
      "name": "GCHackathon.ipynb",
      "provenance": [],
      "collapsed_sections": [],
      "mount_file_id": "1FgG7F0mACVRNfK0GI6IBmWmpIimoT0R7",
      "authorship_tag": "ABX9TyO9QPjacB9Zwz95s3uW082U",
      "include_colab_link": true
    },
    "kernelspec": {
      "name": "python3",
      "display_name": "Python 3"
    }
  },
  "cells": [
    {
      "cell_type": "markdown",
      "metadata": {
        "id": "view-in-github",
        "colab_type": "text"
      },
      "source": [
        "<a href=\"https://colab.research.google.com/github/ravichandranNa/AJ_ML_Library/blob/master/GCHackathon.ipynb\" target=\"_parent\"><img src=\"https://colab.research.google.com/assets/colab-badge.svg\" alt=\"Open In Colab\"/></a>"
      ]
    },
    {
      "cell_type": "code",
      "metadata": {
        "id": "oApuQawInYur"
      },
      "source": [
        "import numpy as np\n",
        "import pandas as pd\n",
        "import matplotlib.pyplot as plt\n",
        "import seaborn as sns"
      ],
      "execution_count": null,
      "outputs": []
    },
    {
      "cell_type": "code",
      "metadata": {
        "id": "GaEdNn1toNP3"
      },
      "source": [
        "df_train = pd.read_csv('/content/drive/My Drive/Guided Community Hackathon/Train_eP48B9k.csv')\n",
        "df_test = pd.read_csv('/content/drive/My Drive/Guided Community Hackathon/Test_jPKyvmK.csv')\n",
        "submission = pd.read_csv('/content/drive/My Drive/Guided Community Hackathon/SampleSubmission_XkIpo3X.csv')"
      ],
      "execution_count": null,
      "outputs": []
    },
    {
      "cell_type": "code",
      "metadata": {
        "id": "lo8fX9nsoitX",
        "outputId": "35b08ede-a23c-4d9e-89cb-409507f9f916",
        "colab": {
          "base_uri": "https://localhost:8080/",
          "height": 125
        }
      },
      "source": [
        "df_train.head(2)"
      ],
      "execution_count": null,
      "outputs": [
        {
          "output_type": "execute_result",
          "data": {
            "text/html": [
              "<div>\n",
              "<style scoped>\n",
              "    .dataframe tbody tr th:only-of-type {\n",
              "        vertical-align: middle;\n",
              "    }\n",
              "\n",
              "    .dataframe tbody tr th {\n",
              "        vertical-align: top;\n",
              "    }\n",
              "\n",
              "    .dataframe thead th {\n",
              "        text-align: right;\n",
              "    }\n",
              "</style>\n",
              "<table border=\"1\" class=\"dataframe\">\n",
              "  <thead>\n",
              "    <tr style=\"text-align: right;\">\n",
              "      <th></th>\n",
              "      <th>id</th>\n",
              "      <th>customer_age</th>\n",
              "      <th>job_type</th>\n",
              "      <th>marital</th>\n",
              "      <th>education</th>\n",
              "      <th>default</th>\n",
              "      <th>balance</th>\n",
              "      <th>housing_loan</th>\n",
              "      <th>personal_loan</th>\n",
              "      <th>communication_type</th>\n",
              "      <th>day_of_month</th>\n",
              "      <th>month</th>\n",
              "      <th>last_contact_duration</th>\n",
              "      <th>num_contacts_in_campaign</th>\n",
              "      <th>days_since_prev_campaign_contact</th>\n",
              "      <th>num_contacts_prev_campaign</th>\n",
              "      <th>prev_campaign_outcome</th>\n",
              "      <th>term_deposit_subscribed</th>\n",
              "    </tr>\n",
              "  </thead>\n",
              "  <tbody>\n",
              "    <tr>\n",
              "      <th>0</th>\n",
              "      <td>id_43823</td>\n",
              "      <td>28.0</td>\n",
              "      <td>management</td>\n",
              "      <td>single</td>\n",
              "      <td>tertiary</td>\n",
              "      <td>no</td>\n",
              "      <td>285.0</td>\n",
              "      <td>yes</td>\n",
              "      <td>no</td>\n",
              "      <td>unknown</td>\n",
              "      <td>26</td>\n",
              "      <td>jun</td>\n",
              "      <td>303.0</td>\n",
              "      <td>4.0</td>\n",
              "      <td>NaN</td>\n",
              "      <td>0</td>\n",
              "      <td>unknown</td>\n",
              "      <td>0</td>\n",
              "    </tr>\n",
              "    <tr>\n",
              "      <th>1</th>\n",
              "      <td>id_32289</td>\n",
              "      <td>34.0</td>\n",
              "      <td>blue-collar</td>\n",
              "      <td>married</td>\n",
              "      <td>secondary</td>\n",
              "      <td>no</td>\n",
              "      <td>934.0</td>\n",
              "      <td>no</td>\n",
              "      <td>yes</td>\n",
              "      <td>cellular</td>\n",
              "      <td>18</td>\n",
              "      <td>nov</td>\n",
              "      <td>143.0</td>\n",
              "      <td>2.0</td>\n",
              "      <td>132.0</td>\n",
              "      <td>1</td>\n",
              "      <td>other</td>\n",
              "      <td>0</td>\n",
              "    </tr>\n",
              "  </tbody>\n",
              "</table>\n",
              "</div>"
            ],
            "text/plain": [
              "         id  customer_age  ... prev_campaign_outcome term_deposit_subscribed\n",
              "0  id_43823          28.0  ...               unknown                       0\n",
              "1  id_32289          34.0  ...                 other                       0\n",
              "\n",
              "[2 rows x 18 columns]"
            ]
          },
          "metadata": {
            "tags": []
          },
          "execution_count": 3
        }
      ]
    },
    {
      "cell_type": "code",
      "metadata": {
        "id": "8EbD7VKuonLt",
        "outputId": "8b6916b8-060c-4be5-b1da-5018fa5b7eb0",
        "colab": {
          "base_uri": "https://localhost:8080/",
          "height": 141
        }
      },
      "source": [
        "df_test.head(2)"
      ],
      "execution_count": null,
      "outputs": [
        {
          "output_type": "execute_result",
          "data": {
            "text/html": [
              "<div>\n",
              "<style scoped>\n",
              "    .dataframe tbody tr th:only-of-type {\n",
              "        vertical-align: middle;\n",
              "    }\n",
              "\n",
              "    .dataframe tbody tr th {\n",
              "        vertical-align: top;\n",
              "    }\n",
              "\n",
              "    .dataframe thead th {\n",
              "        text-align: right;\n",
              "    }\n",
              "</style>\n",
              "<table border=\"1\" class=\"dataframe\">\n",
              "  <thead>\n",
              "    <tr style=\"text-align: right;\">\n",
              "      <th></th>\n",
              "      <th>id</th>\n",
              "      <th>customer_age</th>\n",
              "      <th>job_type</th>\n",
              "      <th>marital</th>\n",
              "      <th>education</th>\n",
              "      <th>default</th>\n",
              "      <th>balance</th>\n",
              "      <th>housing_loan</th>\n",
              "      <th>personal_loan</th>\n",
              "      <th>communication_type</th>\n",
              "      <th>day_of_month</th>\n",
              "      <th>month</th>\n",
              "      <th>last_contact_duration</th>\n",
              "      <th>num_contacts_in_campaign</th>\n",
              "      <th>days_since_prev_campaign_contact</th>\n",
              "      <th>num_contacts_prev_campaign</th>\n",
              "      <th>prev_campaign_outcome</th>\n",
              "    </tr>\n",
              "  </thead>\n",
              "  <tbody>\n",
              "    <tr>\n",
              "      <th>0</th>\n",
              "      <td>id_17231</td>\n",
              "      <td>55.0</td>\n",
              "      <td>retired</td>\n",
              "      <td>married</td>\n",
              "      <td>tertiary</td>\n",
              "      <td>no</td>\n",
              "      <td>7136.0</td>\n",
              "      <td>no</td>\n",
              "      <td>no</td>\n",
              "      <td>cellular</td>\n",
              "      <td>13</td>\n",
              "      <td>aug</td>\n",
              "      <td>90.0</td>\n",
              "      <td>2.0</td>\n",
              "      <td>NaN</td>\n",
              "      <td>0</td>\n",
              "      <td>unknown</td>\n",
              "    </tr>\n",
              "    <tr>\n",
              "      <th>1</th>\n",
              "      <td>id_34508</td>\n",
              "      <td>24.0</td>\n",
              "      <td>blue-collar</td>\n",
              "      <td>single</td>\n",
              "      <td>secondary</td>\n",
              "      <td>no</td>\n",
              "      <td>179.0</td>\n",
              "      <td>yes</td>\n",
              "      <td>no</td>\n",
              "      <td>cellular</td>\n",
              "      <td>18</td>\n",
              "      <td>may</td>\n",
              "      <td>63.0</td>\n",
              "      <td>2.0</td>\n",
              "      <td>NaN</td>\n",
              "      <td>0</td>\n",
              "      <td>unknown</td>\n",
              "    </tr>\n",
              "  </tbody>\n",
              "</table>\n",
              "</div>"
            ],
            "text/plain": [
              "         id  customer_age  ... num_contacts_prev_campaign prev_campaign_outcome\n",
              "0  id_17231          55.0  ...                          0               unknown\n",
              "1  id_34508          24.0  ...                          0               unknown\n",
              "\n",
              "[2 rows x 17 columns]"
            ]
          },
          "metadata": {
            "tags": []
          },
          "execution_count": 4
        }
      ]
    },
    {
      "cell_type": "code",
      "metadata": {
        "id": "0clGpqZIoxKY",
        "outputId": "6acc0fcc-0345-4874-afed-9e240cd0fcf3",
        "colab": {
          "base_uri": "https://localhost:8080/",
          "height": 326
        }
      },
      "source": [
        "df_train.isna().sum()"
      ],
      "execution_count": null,
      "outputs": [
        {
          "output_type": "execute_result",
          "data": {
            "text/plain": [
              "id                                      0\n",
              "customer_age                          619\n",
              "job_type                                0\n",
              "marital                               150\n",
              "education                               0\n",
              "default                                 0\n",
              "balance                               399\n",
              "housing_loan                            0\n",
              "personal_loan                         149\n",
              "communication_type                      0\n",
              "day_of_month                            0\n",
              "month                                   0\n",
              "last_contact_duration                 311\n",
              "num_contacts_in_campaign              112\n",
              "days_since_prev_campaign_contact    25831\n",
              "num_contacts_prev_campaign              0\n",
              "prev_campaign_outcome                   0\n",
              "term_deposit_subscribed                 0\n",
              "dtype: int64"
            ]
          },
          "metadata": {
            "tags": []
          },
          "execution_count": 5
        }
      ]
    },
    {
      "cell_type": "code",
      "metadata": {
        "id": "_BYFOCxVpBkC",
        "outputId": "22df9103-12d0-4611-e8e2-a8c34daeccc0",
        "colab": {
          "base_uri": "https://localhost:8080/",
          "height": 33
        }
      },
      "source": [
        "# df_train['data'] = 'train'\n",
        "# df_test['data'] = 'test'\n",
        "combined = pd.concat([df_train,df_test])\n",
        "combined.shape,df_train.shape,df_test.shape"
      ],
      "execution_count": null,
      "outputs": [
        {
          "output_type": "execute_result",
          "data": {
            "text/plain": [
              "((45211, 18), (31647, 18), (13564, 17))"
            ]
          },
          "metadata": {
            "tags": []
          },
          "execution_count": 6
        }
      ]
    },
    {
      "cell_type": "code",
      "metadata": {
        "id": "72yYc7t3p_vr",
        "outputId": "c9a3e396-cd57-4717-a656-14e111882002",
        "colab": {
          "base_uri": "https://localhost:8080/",
          "height": 326
        }
      },
      "source": [
        "combined.isna().sum()"
      ],
      "execution_count": null,
      "outputs": [
        {
          "output_type": "execute_result",
          "data": {
            "text/plain": [
              "id                                      0\n",
              "customer_age                          889\n",
              "job_type                                0\n",
              "marital                               231\n",
              "education                               0\n",
              "default                                 0\n",
              "balance                               580\n",
              "housing_loan                            0\n",
              "personal_loan                         223\n",
              "communication_type                      0\n",
              "day_of_month                            0\n",
              "month                                   0\n",
              "last_contact_duration                 433\n",
              "num_contacts_in_campaign              157\n",
              "days_since_prev_campaign_contact    36954\n",
              "num_contacts_prev_campaign              0\n",
              "prev_campaign_outcome                   0\n",
              "term_deposit_subscribed             13564\n",
              "dtype: int64"
            ]
          },
          "metadata": {
            "tags": []
          },
          "execution_count": 7
        }
      ]
    },
    {
      "cell_type": "code",
      "metadata": {
        "id": "qiHwmIseqYts"
      },
      "source": [
        "cat_cols = ['job_type', 'marital', 'education', 'default', 'housing_loan',\n",
        "       'personal_loan', 'communication_type', 'month', 'prev_campaign_outcome']"
      ],
      "execution_count": null,
      "outputs": []
    },
    {
      "cell_type": "code",
      "metadata": {
        "id": "uVDyzGABwjyq",
        "outputId": "fd5a4099-129a-4462-b58c-c6589d0476c2",
        "colab": {
          "base_uri": "https://localhost:8080/",
          "height": 163
        }
      },
      "source": [
        "cat_cols"
      ],
      "execution_count": null,
      "outputs": [
        {
          "output_type": "execute_result",
          "data": {
            "text/plain": [
              "['job_type',\n",
              " 'marital',\n",
              " 'education',\n",
              " 'default',\n",
              " 'housing_loan',\n",
              " 'personal_loan',\n",
              " 'communication_type',\n",
              " 'month',\n",
              " 'prev_campaign_outcome']"
            ]
          },
          "metadata": {
            "tags": []
          },
          "execution_count": 9
        }
      ]
    },
    {
      "cell_type": "code",
      "metadata": {
        "id": "NhbNrysG2UFf",
        "outputId": "1fd23d38-544e-42c3-956e-88cdedd94b49",
        "colab": {
          "base_uri": "https://localhost:8080/",
          "height": 196
        }
      },
      "source": [
        "!pip install --upgrade seaborn"
      ],
      "execution_count": null,
      "outputs": [
        {
          "output_type": "stream",
          "text": [
            "Requirement already up-to-date: seaborn in /usr/local/lib/python3.6/dist-packages (0.11.0)\n",
            "Requirement already satisfied, skipping upgrade: numpy>=1.15 in /usr/local/lib/python3.6/dist-packages (from seaborn) (1.18.5)\n",
            "Requirement already satisfied, skipping upgrade: pandas>=0.23 in /usr/local/lib/python3.6/dist-packages (from seaborn) (1.0.5)\n",
            "Requirement already satisfied, skipping upgrade: scipy>=1.0 in /usr/local/lib/python3.6/dist-packages (from seaborn) (1.4.1)\n",
            "Requirement already satisfied, skipping upgrade: matplotlib>=2.2 in /usr/local/lib/python3.6/dist-packages (from seaborn) (3.2.2)\n",
            "Requirement already satisfied, skipping upgrade: pytz>=2017.2 in /usr/local/lib/python3.6/dist-packages (from pandas>=0.23->seaborn) (2018.9)\n",
            "Requirement already satisfied, skipping upgrade: python-dateutil>=2.6.1 in /usr/local/lib/python3.6/dist-packages (from pandas>=0.23->seaborn) (2.8.1)\n",
            "Requirement already satisfied, skipping upgrade: cycler>=0.10 in /usr/local/lib/python3.6/dist-packages (from matplotlib>=2.2->seaborn) (0.10.0)\n",
            "Requirement already satisfied, skipping upgrade: kiwisolver>=1.0.1 in /usr/local/lib/python3.6/dist-packages (from matplotlib>=2.2->seaborn) (1.2.0)\n",
            "Requirement already satisfied, skipping upgrade: pyparsing!=2.0.4,!=2.1.2,!=2.1.6,>=2.0.1 in /usr/local/lib/python3.6/dist-packages (from matplotlib>=2.2->seaborn) (2.4.7)\n",
            "Requirement already satisfied, skipping upgrade: six>=1.5 in /usr/local/lib/python3.6/dist-packages (from python-dateutil>=2.6.1->pandas>=0.23->seaborn) (1.15.0)\n"
          ],
          "name": "stdout"
        }
      ]
    },
    {
      "cell_type": "code",
      "metadata": {
        "id": "C7R0QJ7w2g_t"
      },
      "source": [
        "%matplotlib inline"
      ],
      "execution_count": null,
      "outputs": []
    },
    {
      "cell_type": "markdown",
      "metadata": {
        "id": "tVYpaZT8W6k-"
      },
      "source": [
        "##Univariate Analysis"
      ]
    },
    {
      "cell_type": "code",
      "metadata": {
        "id": "HRre50cPxKuC",
        "outputId": "7b51fcea-eebe-4337-c7f6-3070aa20764d",
        "colab": {
          "base_uri": "https://localhost:8080/",
          "height": 872
        }
      },
      "source": [
        "fig, axes = plt.subplots(3,3, figsize=(20,12))\n",
        "axes = [ax for axes_row in axes for ax in axes_row]\n",
        "\n",
        "for i, col in enumerate(combined[cat_cols]):\n",
        "    combined[col].value_counts()[::1].plot(kind='pie',ax=axes[i],title =col,autopct = '%.0f',fontsize = 12)\n",
        "    axes[i].set_ylabel('')\n",
        "\n",
        "plt.tight_layout()\n",
        "    "
      ],
      "execution_count": null,
      "outputs": [
        {
          "output_type": "display_data",
          "data": {
            "image/png": "[encoded data removed]",
            "text/plain": [
              "<Figure size 1440x864 with 9 Axes>"
            ]
          },
          "metadata": {
            "tags": []
          }
        }
      ]
    },
    {
      "cell_type": "code",
      "metadata": {
        "id": "JtNuzAjAutS0",
        "outputId": "e513e130-f286-428d-ebda-a0eeb4bb448b",
        "colab": {
          "base_uri": "https://localhost:8080/",
          "height": 350
        }
      },
      "source": [
        "\n",
        "ID_COL, TARGET_COL = 'id', 'term_deposit_subscribed'\n",
        "df_train[TARGET_COL].value_counts(normalize=True)\n",
        "_ = sns.countplot(df_train[TARGET_COL])\n",
        "_ = plt.title(\"Target Distribution\", fontsize=14)"
      ],
      "execution_count": null,
      "outputs": [
        {
          "output_type": "stream",
          "text": [
            "/usr/local/lib/python3.6/dist-packages/seaborn/_decorators.py:43: FutureWarning: Pass the following variable as a keyword arg: x. From version 0.12, the only valid positional argument will be `data`, and passing other arguments without an explicit keyword will result in an error or misinterpretation.\n",
            "  FutureWarning\n"
          ],
          "name": "stderr"
        },
        {
          "output_type": "display_data",
          "data": {
            "image/png": "[encoded data removed]",
            "text/plain": [
              "<Figure size 432x288 with 1 Axes>"
            ]
          },
          "metadata": {
            "tags": [],
            "needs_background": "light"
          }
        }
      ]
    },
    {
      "cell_type": "markdown",
      "metadata": {
        "id": "0dSEvcoJXA0v"
      },
      "source": [
        "##Multivariate Analysis"
      ]
    },
    {
      "cell_type": "code",
      "metadata": {
        "id": "Xp5GS4LLjUv5",
        "outputId": "e243d2c6-ba40-491d-b854-ba8727cb7dce",
        "colab": {
          "base_uri": "https://localhost:8080/",
          "height": 872
        }
      },
      "source": [
        "fig, axes = plt.subplots(3, 3, figsize=(20, 12))\n",
        "axes = [ax for axes_row in axes for ax in axes_row]\n",
        "\n",
        "for i, c in enumerate(df_train[cat_cols]):\n",
        "    fltr = df_train[TARGET_COL] == 0\n",
        "    vc_a = df_train[fltr][c].value_counts(normalize=True).reset_index().rename({'index' : c, c: 'count'}, axis=1)\n",
        "\n",
        "    vc_b = df_train[~fltr][c].value_counts(normalize=True).reset_index().rename({'index' : c, c: 'count'}, axis=1)\n",
        "\n",
        "    vc_a[TARGET_COL] = 0\n",
        "    vc_b[TARGET_COL] = 1\n",
        "\n",
        "    df = pd.concat([vc_a, vc_b]).reset_index(drop = True)\n",
        "\n",
        "    _ = sns.barplot(y = c, x = 'count', data =df , hue=TARGET_COL, ax=axes[i])\n",
        "    \n",
        "_ = plt.tight_layout()"
      ],
      "execution_count": null,
      "outputs": [
        {
          "output_type": "display_data",
          "data": {
            "image/png": "[encoded data removed]",
            "text/plain": [
              "<Figure size 1440x864 with 9 Axes>"
            ]
          },
          "metadata": {
            "tags": [],
            "needs_background": "light"
          }
        }
      ]
    },
    {
      "cell_type": "markdown",
      "metadata": {
        "id": "5LoGzEWkUChC"
      },
      "source": [
        "##Filling NAs with respect to means of each category in Job_Type"
      ]
    },
    {
      "cell_type": "code",
      "metadata": {
        "id": "ChlgWPodVphB"
      },
      "source": [
        "means = combined.groupby('job_type')['customer_age'].transform(np.mean)\n",
        "filled_means = means.fillna(1)\n",
        "# this corrects the last problem\n",
        "combined['customer_age'] = combined['customer_age'].fillna(filled_means).round()"
      ],
      "execution_count": null,
      "outputs": []
    },
    {
      "cell_type": "code",
      "metadata": {
        "id": "ao0sesvNze3c"
      },
      "source": [
        "means = combined.groupby('job_type')['balance'].transform(np.mean)\n",
        "filled_means = means.fillna(1)\n",
        "# this corrects the last problem\n",
        "combined['balance'] = combined['balance'].fillna(filled_means).round()"
      ],
      "execution_count": null,
      "outputs": []
    },
    {
      "cell_type": "code",
      "metadata": {
        "id": "ZDtoskGy4cVt"
      },
      "source": [
        "means = combined.groupby('communication_type')['last_contact_duration'].transform(np.mean)\n",
        "filled_means = means.fillna(1)\n",
        "\n",
        "combined['last_contact_duration'] = combined['last_contact_duration'].fillna(filled_means).round()"
      ],
      "execution_count": null,
      "outputs": []
    },
    {
      "cell_type": "code",
      "metadata": {
        "id": "8Yx6wos44fFu"
      },
      "source": [
        "combined['marital'] = combined['marital'].fillna('married')\n",
        "combined['personal_loan'] = combined['personal_loan'].fillna('no')"
      ],
      "execution_count": null,
      "outputs": []
    },
    {
      "cell_type": "code",
      "metadata": {
        "id": "DnoYDYOY7Hga"
      },
      "source": [
        "means = combined.groupby('communication_type')['num_contacts_in_campaign'].transform(np.mean)\n",
        "filled_means = means.fillna(1)\n",
        "\n",
        "combined['num_contacts_in_campaign'] = combined['num_contacts_in_campaign'].fillna(filled_means).round()"
      ],
      "execution_count": null,
      "outputs": []
    },
    {
      "cell_type": "markdown",
      "metadata": {
        "id": "RiM1Sn01UJzv"
      },
      "source": [
        "##Feature Engineering: Adding new coloumn last contacted days"
      ]
    },
    {
      "cell_type": "code",
      "metadata": {
        "id": "rsEen7oM_m4c"
      },
      "source": [
        "combined.day_of_month = combined.day_of_month.astype('str')\n",
        "combined['year'] = '2019'\n",
        "combined['date'] = combined[['day_of_month', 'month','year']].apply(lambda x: ''.join(x), axis=1)\n",
        "combined['fin_date'] = '31-12-2019'\n",
        "combined['date'] = pd.to_datetime(combined['date'],format='%d%b%Y')\n",
        "combined['fin_date'] = pd.to_datetime(combined['fin_date'],format='%d-%m-%Y')\n",
        "combined['last_contacted_days'] = (combined['fin_date'] - combined['date']).dt.days\n",
        "ref_cat = combined[['month','day_of_month','days_since_prev_campaign_contact','year','date','fin_date']]\n",
        "combined.drop(ref_cat,axis=1,inplace=True)"
      ],
      "execution_count": null,
      "outputs": []
    },
    {
      "cell_type": "code",
      "metadata": {
        "id": "5ePyWbjrA-Wq",
        "outputId": "dc1c4dca-0c01-42b5-d1c2-66a3f46edc91",
        "colab": {
          "base_uri": "https://localhost:8080/",
          "height": 211
        }
      },
      "source": [
        "combined.head()"
      ],
      "execution_count": null,
      "outputs": [
        {
          "output_type": "execute_result",
          "data": {
            "text/html": [
              "<div>\n",
              "<style scoped>\n",
              "    .dataframe tbody tr th:only-of-type {\n",
              "        vertical-align: middle;\n",
              "    }\n",
              "\n",
              "    .dataframe tbody tr th {\n",
              "        vertical-align: top;\n",
              "    }\n",
              "\n",
              "    .dataframe thead th {\n",
              "        text-align: right;\n",
              "    }\n",
              "</style>\n",
              "<table border=\"1\" class=\"dataframe\">\n",
              "  <thead>\n",
              "    <tr style=\"text-align: right;\">\n",
              "      <th></th>\n",
              "      <th>id</th>\n",
              "      <th>customer_age</th>\n",
              "      <th>job_type</th>\n",
              "      <th>marital</th>\n",
              "      <th>education</th>\n",
              "      <th>default</th>\n",
              "      <th>balance</th>\n",
              "      <th>housing_loan</th>\n",
              "      <th>personal_loan</th>\n",
              "      <th>communication_type</th>\n",
              "      <th>last_contact_duration</th>\n",
              "      <th>num_contacts_in_campaign</th>\n",
              "      <th>num_contacts_prev_campaign</th>\n",
              "      <th>prev_campaign_outcome</th>\n",
              "      <th>term_deposit_subscribed</th>\n",
              "      <th>last_contacted_days</th>\n",
              "    </tr>\n",
              "  </thead>\n",
              "  <tbody>\n",
              "    <tr>\n",
              "      <th>0</th>\n",
              "      <td>id_43823</td>\n",
              "      <td>28.0</td>\n",
              "      <td>management</td>\n",
              "      <td>single</td>\n",
              "      <td>tertiary</td>\n",
              "      <td>no</td>\n",
              "      <td>285.0</td>\n",
              "      <td>yes</td>\n",
              "      <td>no</td>\n",
              "      <td>unknown</td>\n",
              "      <td>303.0</td>\n",
              "      <td>4.0</td>\n",
              "      <td>0</td>\n",
              "      <td>unknown</td>\n",
              "      <td>0.0</td>\n",
              "      <td>188</td>\n",
              "    </tr>\n",
              "    <tr>\n",
              "      <th>1</th>\n",
              "      <td>id_32289</td>\n",
              "      <td>34.0</td>\n",
              "      <td>blue-collar</td>\n",
              "      <td>married</td>\n",
              "      <td>secondary</td>\n",
              "      <td>no</td>\n",
              "      <td>934.0</td>\n",
              "      <td>no</td>\n",
              "      <td>yes</td>\n",
              "      <td>cellular</td>\n",
              "      <td>143.0</td>\n",
              "      <td>2.0</td>\n",
              "      <td>1</td>\n",
              "      <td>other</td>\n",
              "      <td>0.0</td>\n",
              "      <td>43</td>\n",
              "    </tr>\n",
              "    <tr>\n",
              "      <th>2</th>\n",
              "      <td>id_10523</td>\n",
              "      <td>46.0</td>\n",
              "      <td>technician</td>\n",
              "      <td>married</td>\n",
              "      <td>secondary</td>\n",
              "      <td>no</td>\n",
              "      <td>656.0</td>\n",
              "      <td>no</td>\n",
              "      <td>no</td>\n",
              "      <td>cellular</td>\n",
              "      <td>101.0</td>\n",
              "      <td>4.0</td>\n",
              "      <td>0</td>\n",
              "      <td>unknown</td>\n",
              "      <td>0.0</td>\n",
              "      <td>329</td>\n",
              "    </tr>\n",
              "    <tr>\n",
              "      <th>3</th>\n",
              "      <td>id_43951</td>\n",
              "      <td>34.0</td>\n",
              "      <td>services</td>\n",
              "      <td>single</td>\n",
              "      <td>secondary</td>\n",
              "      <td>no</td>\n",
              "      <td>2.0</td>\n",
              "      <td>yes</td>\n",
              "      <td>no</td>\n",
              "      <td>unknown</td>\n",
              "      <td>127.0</td>\n",
              "      <td>3.0</td>\n",
              "      <td>0</td>\n",
              "      <td>unknown</td>\n",
              "      <td>0.0</td>\n",
              "      <td>225</td>\n",
              "    </tr>\n",
              "    <tr>\n",
              "      <th>4</th>\n",
              "      <td>id_40992</td>\n",
              "      <td>41.0</td>\n",
              "      <td>blue-collar</td>\n",
              "      <td>married</td>\n",
              "      <td>primary</td>\n",
              "      <td>no</td>\n",
              "      <td>1352.0</td>\n",
              "      <td>yes</td>\n",
              "      <td>no</td>\n",
              "      <td>cellular</td>\n",
              "      <td>49.0</td>\n",
              "      <td>2.0</td>\n",
              "      <td>0</td>\n",
              "      <td>unknown</td>\n",
              "      <td>0.0</td>\n",
              "      <td>232</td>\n",
              "    </tr>\n",
              "  </tbody>\n",
              "</table>\n",
              "</div>"
            ],
            "text/plain": [
              "         id  customer_age  ... term_deposit_subscribed last_contacted_days\n",
              "0  id_43823          28.0  ...                     0.0                 188\n",
              "1  id_32289          34.0  ...                     0.0                  43\n",
              "2  id_10523          46.0  ...                     0.0                 329\n",
              "3  id_43951          34.0  ...                     0.0                 225\n",
              "4  id_40992          41.0  ...                     0.0                 232\n",
              "\n",
              "[5 rows x 16 columns]"
            ]
          },
          "metadata": {
            "tags": []
          },
          "execution_count": 21
        }
      ]
    },
    {
      "cell_type": "markdown",
      "metadata": {
        "id": "Qdr2oF6sU-JW"
      },
      "source": [
        "##Label Encoding "
      ]
    },
    {
      "cell_type": "code",
      "metadata": {
        "id": "ox1eiNhNJ3Y0",
        "outputId": "4c3d0459-0f04-4fb0-c88f-a04d7a1cf351",
        "colab": {
          "base_uri": "https://localhost:8080/",
          "height": 391
        }
      },
      "source": [
        "from sklearn.preprocessing import LabelEncoder\n",
        "#Fetch features of type Object\n",
        "objFeatures = combined[['default','housing_loan','personal_loan']]\n",
        "\n",
        "#Iterate a loop for features of type object\n",
        "le = LabelEncoder()\n",
        "\n",
        "for feat in objFeatures:\n",
        "    combined[feat] = le.fit_transform(combined[feat].astype(str))\n",
        "\n",
        "combined.info()\n"
      ],
      "execution_count": null,
      "outputs": [
        {
          "output_type": "stream",
          "text": [
            "<class 'pandas.core.frame.DataFrame'>\n",
            "Int64Index: 45211 entries, 0 to 13563\n",
            "Data columns (total 16 columns):\n",
            " #   Column                      Non-Null Count  Dtype  \n",
            "---  ------                      --------------  -----  \n",
            " 0   id                          45211 non-null  object \n",
            " 1   customer_age                45211 non-null  float64\n",
            " 2   job_type                    45211 non-null  object \n",
            " 3   marital                     45211 non-null  object \n",
            " 4   education                   45211 non-null  object \n",
            " 5   default                     45211 non-null  int64  \n",
            " 6   balance                     45211 non-null  float64\n",
            " 7   housing_loan                45211 non-null  int64  \n",
            " 8   personal_loan               45211 non-null  int64  \n",
            " 9   communication_type          45211 non-null  object \n",
            " 10  last_contact_duration       45211 non-null  float64\n",
            " 11  num_contacts_in_campaign    45211 non-null  float64\n",
            " 12  num_contacts_prev_campaign  45211 non-null  int64  \n",
            " 13  prev_campaign_outcome       45211 non-null  object \n",
            " 14  term_deposit_subscribed     31647 non-null  float64\n",
            " 15  last_contacted_days         45211 non-null  int64  \n",
            "dtypes: float64(5), int64(5), object(6)\n",
            "memory usage: 5.9+ MB\n"
          ],
          "name": "stdout"
        }
      ]
    },
    {
      "cell_type": "markdown",
      "metadata": {
        "id": "tZpXD9E6VEHM"
      },
      "source": [
        "##Creating Weight of Evidence for certain columns"
      ]
    },
    {
      "cell_type": "code",
      "metadata": {
        "id": "VgrSczcuRCTe"
      },
      "source": [
        "def woe_discrete(df, discrete_variable_name, good_bad_variable_df):\n",
        "    df = pd.concat([df[discrete_variable_name], good_bad_variable_df], axis = 1)\n",
        "    df = pd.concat([df.groupby(df.columns.values[0], as_index = False)[df.columns.values[1]].count(),\n",
        "                df.groupby(df.columns.values[0], as_index = False)[df.columns.values[1]].mean()], axis = 1)\n",
        "    df = df.iloc[:, [0, 1, 3]]\n",
        "    df.columns = [df.columns.values[0], 'n_obs', 'prop_good']\n",
        "    df['prop_n_obs'] = df['n_obs'] / df['n_obs'].sum()\n",
        "    df['n_good'] = df['prop_good'] * df['n_obs']\n",
        "    df['n_bad'] = (1 - df['prop_good']) * df['n_obs']\n",
        "    df['prop_n_good'] = df['n_good'] / df['n_good'].sum()\n",
        "    df['prop_n_bad'] = df['n_bad'] / df['n_bad'].sum()\n",
        "    df['WoE'] = np.log(df['prop_n_good'] / df['prop_n_bad'])\n",
        "    df = df.sort_values(['WoE'])\n",
        "    df = df.reset_index(drop = True)\n",
        "    df['diff_prop_good'] = df['prop_good'].diff().abs()\n",
        "    df['diff_WoE'] = df['WoE'].diff().abs()\n",
        "    df['IV'] = (df['prop_n_good'] - df['prop_n_bad']) * df['WoE']\n",
        "    df['IV'] = df['IV'].sum()\n",
        "    return df"
      ],
      "execution_count": null,
      "outputs": []
    },
    {
      "cell_type": "code",
      "metadata": {
        "id": "CvSjxT6Lw1cv"
      },
      "source": [
        "train_y = df_train['term_deposit_subscribed']\n",
        "train_x = df_train.drop('term_deposit_subscribed',axis=1)"
      ],
      "execution_count": null,
      "outputs": []
    },
    {
      "cell_type": "markdown",
      "metadata": {
        "id": "xh_LjvksVNHH"
      },
      "source": [
        "##Ploting Weight of Evidence"
      ]
    },
    {
      "cell_type": "code",
      "metadata": {
        "id": "cbHr9JIUXlW5"
      },
      "source": [
        "def plot_by_woe(df_WoE, rotation_of_x_axis_labels = 0):\n",
        "    x = np.array(df_WoE.iloc[: , 0].apply(str))\n",
        "    y = df_WoE['WoE']\n",
        "    plt.figure(figsize = (8, 5))\n",
        "    plt.plot(x, y, marker = 'o', linestyle = '--', color = 'k')\n",
        "    plt.xlabel(df_WoE.columns[0])\n",
        "    plt.ylabel('Weight of Evidence')\n",
        "    plt.title(str('Weight of Evidence by ' + df_WoE.columns[0]))\n",
        "    plt.xticks(rotation = rotation_of_x_axis_labels)"
      ],
      "execution_count": null,
      "outputs": []
    },
    {
      "cell_type": "code",
      "metadata": {
        "id": "hHqd0RpBxr7k",
        "outputId": "5c5a0cac-f402-481f-fdb2-c11fd1542ca8",
        "colab": {
          "base_uri": "https://localhost:8080/",
          "height": 411
        }
      },
      "source": [
        "df_temp = woe_discrete(train_x,'job_type',train_y)\n",
        "plot_by_woe(df_temp,90)"
      ],
      "execution_count": null,
      "outputs": [
        {
          "output_type": "display_data",
          "data": {
            "image/png": "[encoded data removed]",
            "text/plain": [
              "<Figure size 576x360 with 1 Axes>"
            ]
          },
          "metadata": {
            "tags": [],
            "needs_background": "light"
          }
        }
      ]
    },
    {
      "cell_type": "code",
      "metadata": {
        "id": "Fu9QcPwtTHLm",
        "outputId": "c117f8c6-5def-44d4-ea26-407d1d89d5d2",
        "colab": {
          "base_uri": "https://localhost:8080/",
          "height": 391
        }
      },
      "source": [
        "df_temp = woe_discrete(train_x,'communication_type',train_y)\n",
        "plot_by_woe(df_temp,90)"
      ],
      "execution_count": null,
      "outputs": [
        {
          "output_type": "display_data",
          "data": {
            "image/png": "[encoded data removed]",
            "text/plain": [
              "<Figure size 576x360 with 1 Axes>"
            ]
          },
          "metadata": {
            "tags": [],
            "needs_background": "light"
          }
        }
      ]
    },
    {
      "cell_type": "code",
      "metadata": {
        "id": "LE_E81MvTTxR",
        "outputId": "6f363ae3-dcc6-49bc-c3bb-9e37561f8e09",
        "colab": {
          "base_uri": "https://localhost:8080/",
          "height": 386
        }
      },
      "source": [
        "df_temp = woe_discrete(train_x,'prev_campaign_outcome',train_y)\n",
        "plot_by_woe(df_temp,90)"
      ],
      "execution_count": null,
      "outputs": [
        {
          "output_type": "display_data",
          "data": {
            "image/png": "[encoded data removed]",
            "text/plain": [
              "<Figure size 576x360 with 1 Axes>"
            ]
          },
          "metadata": {
            "tags": [],
            "needs_background": "light"
          }
        }
      ]
    },
    {
      "cell_type": "markdown",
      "metadata": {
        "id": "tPpen2rnVYEU"
      },
      "source": [
        "##Clubbing some features of the columns into one for better result"
      ]
    },
    {
      "cell_type": "code",
      "metadata": {
        "id": "I4i_eYi2AKrH"
      },
      "source": [
        "combined['job_type'] = combined['job_type'].map({'blue_collar':0,'housemaid': 1,'services': 1,'entrepreneur':1,'technician':2,'admin.':2,'self-employed':3,\n",
        "       'unknown':3, 'management':3,'unemployed':4,'retired':5,'student':6})\n",
        "combined['communication_type'] = combined['communication_type'].map({'telephone': 1,'cellular':1,'unknown':0})\n",
        "combined['prev_campaign_outcome'] = combined['prev_campaign_outcome'].map({'unknown': 0,'failure': 1,'other':1,'sucess':1})"
      ],
      "execution_count": null,
      "outputs": []
    },
    {
      "cell_type": "markdown",
      "metadata": {
        "id": "SxN5YAjhVgaO"
      },
      "source": [
        "##Creating Dummies"
      ]
    },
    {
      "cell_type": "code",
      "metadata": {
        "id": "gLxVNLGNP0c_",
        "outputId": "0c262006-25b9-4a18-a124-635ce36fd52c",
        "colab": {
          "base_uri": "https://localhost:8080/",
          "height": 153
        }
      },
      "source": [
        "combined = pd.get_dummies(data=combined, columns=['job_type', 'marital','education','personal_loan','communication_type','prev_campaign_outcome'],drop_first=True)\n",
        "combined.head(3)"
      ],
      "execution_count": null,
      "outputs": [
        {
          "output_type": "execute_result",
          "data": {
            "text/html": [
              "<div>\n",
              "<style scoped>\n",
              "    .dataframe tbody tr th:only-of-type {\n",
              "        vertical-align: middle;\n",
              "    }\n",
              "\n",
              "    .dataframe tbody tr th {\n",
              "        vertical-align: top;\n",
              "    }\n",
              "\n",
              "    .dataframe thead th {\n",
              "        text-align: right;\n",
              "    }\n",
              "</style>\n",
              "<table border=\"1\" class=\"dataframe\">\n",
              "  <thead>\n",
              "    <tr style=\"text-align: right;\">\n",
              "      <th></th>\n",
              "      <th>id</th>\n",
              "      <th>customer_age</th>\n",
              "      <th>default</th>\n",
              "      <th>balance</th>\n",
              "      <th>housing_loan</th>\n",
              "      <th>last_contact_duration</th>\n",
              "      <th>num_contacts_in_campaign</th>\n",
              "      <th>num_contacts_prev_campaign</th>\n",
              "      <th>term_deposit_subscribed</th>\n",
              "      <th>last_contacted_days</th>\n",
              "      <th>job_type_2.0</th>\n",
              "      <th>job_type_3.0</th>\n",
              "      <th>job_type_4.0</th>\n",
              "      <th>job_type_5.0</th>\n",
              "      <th>job_type_6.0</th>\n",
              "      <th>marital_married</th>\n",
              "      <th>marital_single</th>\n",
              "      <th>education_secondary</th>\n",
              "      <th>education_tertiary</th>\n",
              "      <th>education_unknown</th>\n",
              "      <th>personal_loan_1</th>\n",
              "      <th>communication_type_1</th>\n",
              "      <th>prev_campaign_outcome_1.0</th>\n",
              "    </tr>\n",
              "  </thead>\n",
              "  <tbody>\n",
              "    <tr>\n",
              "      <th>0</th>\n",
              "      <td>id_43823</td>\n",
              "      <td>28.0</td>\n",
              "      <td>0</td>\n",
              "      <td>285.0</td>\n",
              "      <td>1</td>\n",
              "      <td>303.0</td>\n",
              "      <td>4.0</td>\n",
              "      <td>0</td>\n",
              "      <td>0.0</td>\n",
              "      <td>188</td>\n",
              "      <td>0</td>\n",
              "      <td>1</td>\n",
              "      <td>0</td>\n",
              "      <td>0</td>\n",
              "      <td>0</td>\n",
              "      <td>0</td>\n",
              "      <td>1</td>\n",
              "      <td>0</td>\n",
              "      <td>1</td>\n",
              "      <td>0</td>\n",
              "      <td>0</td>\n",
              "      <td>0</td>\n",
              "      <td>0</td>\n",
              "    </tr>\n",
              "    <tr>\n",
              "      <th>1</th>\n",
              "      <td>id_32289</td>\n",
              "      <td>34.0</td>\n",
              "      <td>0</td>\n",
              "      <td>934.0</td>\n",
              "      <td>0</td>\n",
              "      <td>143.0</td>\n",
              "      <td>2.0</td>\n",
              "      <td>1</td>\n",
              "      <td>0.0</td>\n",
              "      <td>43</td>\n",
              "      <td>0</td>\n",
              "      <td>0</td>\n",
              "      <td>0</td>\n",
              "      <td>0</td>\n",
              "      <td>0</td>\n",
              "      <td>1</td>\n",
              "      <td>0</td>\n",
              "      <td>1</td>\n",
              "      <td>0</td>\n",
              "      <td>0</td>\n",
              "      <td>1</td>\n",
              "      <td>1</td>\n",
              "      <td>1</td>\n",
              "    </tr>\n",
              "    <tr>\n",
              "      <th>2</th>\n",
              "      <td>id_10523</td>\n",
              "      <td>46.0</td>\n",
              "      <td>0</td>\n",
              "      <td>656.0</td>\n",
              "      <td>0</td>\n",
              "      <td>101.0</td>\n",
              "      <td>4.0</td>\n",
              "      <td>0</td>\n",
              "      <td>0.0</td>\n",
              "      <td>329</td>\n",
              "      <td>1</td>\n",
              "      <td>0</td>\n",
              "      <td>0</td>\n",
              "      <td>0</td>\n",
              "      <td>0</td>\n",
              "      <td>1</td>\n",
              "      <td>0</td>\n",
              "      <td>1</td>\n",
              "      <td>0</td>\n",
              "      <td>0</td>\n",
              "      <td>0</td>\n",
              "      <td>1</td>\n",
              "      <td>0</td>\n",
              "    </tr>\n",
              "  </tbody>\n",
              "</table>\n",
              "</div>"
            ],
            "text/plain": [
              "         id  customer_age  ...  communication_type_1  prev_campaign_outcome_1.0\n",
              "0  id_43823          28.0  ...                     0                          0\n",
              "1  id_32289          34.0  ...                     1                          1\n",
              "2  id_10523          46.0  ...                     1                          0\n",
              "\n",
              "[3 rows x 23 columns]"
            ]
          },
          "metadata": {
            "tags": []
          },
          "execution_count": 30
        }
      ]
    },
    {
      "cell_type": "code",
      "metadata": {
        "id": "R0nvOISuQ8V_"
      },
      "source": [
        "combined[['customer_age','balance','last_contact_duration','num_contacts_in_campaign']] = combined[['customer_age','balance','last_contact_duration','num_contacts_in_campaign']].astype(int)"
      ],
      "execution_count": null,
      "outputs": []
    },
    {
      "cell_type": "code",
      "metadata": {
        "id": "WW38eQH_mZuH"
      },
      "source": [
        "ID_COL, TARGET_COL = 'id', 'term_deposit_subscribed'\n"
      ],
      "execution_count": null,
      "outputs": []
    },
    {
      "cell_type": "code",
      "metadata": {
        "id": "2E6uKT3Tl0t9"
      },
      "source": [
        "# Splitting\n",
        "train_proc, test_proc = combined[:df_train.shape[0]], combined[df_train.shape[0]:].reset_index(drop = True)\n",
        "features = [c for c in train_proc.columns if c not in [ID_COL, TARGET_COL]]"
      ],
      "execution_count": null,
      "outputs": []
    },
    {
      "cell_type": "code",
      "metadata": {
        "id": "f52ruJo_l0qI",
        "outputId": "c2ca9723-96f6-4314-f07f-aa27b51ee602",
        "colab": {
          "base_uri": "https://localhost:8080/",
          "height": 33
        }
      },
      "source": [
        "len(features)"
      ],
      "execution_count": null,
      "outputs": [
        {
          "output_type": "execute_result",
          "data": {
            "text/plain": [
              "21"
            ]
          },
          "metadata": {
            "tags": []
          },
          "execution_count": 34
        }
      ]
    },
    {
      "cell_type": "code",
      "metadata": {
        "id": "WsNvaaCDl0oE"
      },
      "source": [
        "from sklearn.model_selection import train_test_split\n",
        "trn, val = train_test_split(train_proc, test_size=0.2, random_state = 1, stratify = train_proc[TARGET_COL])\n",
        "\n",
        "###### Input to our model will be the features\n",
        "X_trn, X_val = trn[features], val[features]\n",
        "\n",
        "###### Output of our model will be the TARGET_COL\n",
        "y_trn, y_val = trn[TARGET_COL], val[TARGET_COL]\n",
        "\n",
        "##### Features for the test data that we will be predicting\n",
        "X_test = test_proc[features]"
      ],
      "execution_count": null,
      "outputs": []
    },
    {
      "cell_type": "code",
      "metadata": {
        "id": "7Jw2n7Dml0iV"
      },
      "source": [
        "from sklearn.preprocessing import StandardScaler\n",
        "\n",
        "scaler = StandardScaler()\n",
        "_ = scaler.fit(X_trn)\n",
        "\n",
        "X_trn = scaler.transform(X_trn)\n",
        "X_val = scaler.transform(X_val)\n",
        "X_test = scaler.transform(X_test)"
      ],
      "execution_count": null,
      "outputs": []
    },
    {
      "cell_type": "markdown",
      "metadata": {
        "id": "U-PTr3EAVolp"
      },
      "source": [
        "##Building Models"
      ]
    },
    {
      "cell_type": "code",
      "metadata": {
        "id": "JXNX4aQ9nEv1",
        "outputId": "de2656f1-28c7-4826-bf10-ec1f3101bc6a",
        "colab": {
          "base_uri": "https://localhost:8080/",
          "height": 53
        }
      },
      "source": [
        "from sklearn.model_selection import train_test_split, StratifiedKFold\n",
        "from sklearn.metrics import accuracy_score, f1_score\n",
        "\n",
        "from sklearn.tree import DecisionTreeClassifier\n",
        "from sklearn.linear_model import LogisticRegression\n",
        "\n",
        "from lightgbm import LGBMClassifier\n",
        "\n",
        "from xgboost import XGBClassifier\n",
        "\n",
        "from IPython.core.interactiveshell import InteractiveShell\n",
        "InteractiveShell.ast_node_interactivity = \"all\"\n",
        "\n",
        "pd.set_option('display.max_colwidth', -1)\n",
        "\n",
        "import warnings\n",
        "warnings.simplefilter('ignore')"
      ],
      "execution_count": null,
      "outputs": [
        {
          "output_type": "stream",
          "text": [
            "/usr/local/lib/python3.6/dist-packages/ipykernel_launcher.py:18: FutureWarning: Passing a negative integer is deprecated in version 1.0 and will not be supported in future version. Instead, use None to not limit the column width.\n"
          ],
          "name": "stderr"
        }
      ]
    },
    {
      "cell_type": "code",
      "metadata": {
        "id": "yUc9APh8LVfQ"
      },
      "source": [
        ""
      ],
      "execution_count": null,
      "outputs": []
    },
    {
      "cell_type": "markdown",
      "metadata": {
        "id": "GBP1DHmXXLwJ"
      },
      "source": [
        "##Logistic Regression"
      ]
    },
    {
      "cell_type": "code",
      "metadata": {
        "id": "S2_PSQkTl0ff",
        "outputId": "b31909b5-fef2-4092-822d-b194f69294b3",
        "colab": {
          "base_uri": "https://localhost:8080/",
          "height": 33
        }
      },
      "source": [
        "clf = LogisticRegression(random_state = 1)\n",
        "_ = clf.fit(X_trn, y_trn)\n",
        "\n",
        "thr = .21\n",
        "preds_val = clf.predict_proba(X_val)[:,1]\n",
        "pred_val1 = np.where(preds_val>thr,1,0)\n",
        "\n",
        "f1_score(y_val, pred_val1)"
      ],
      "execution_count": null,
      "outputs": [
        {
          "output_type": "execute_result",
          "data": {
            "text/plain": [
              "0.5100584036340039"
            ]
          },
          "metadata": {
            "tags": []
          },
          "execution_count": 38
        }
      ]
    },
    {
      "cell_type": "code",
      "metadata": {
        "id": "VazNas_Ol0cL"
      },
      "source": [
        "preds_test_logs = clf.predict(X_test)\n"
      ],
      "execution_count": null,
      "outputs": []
    },
    {
      "cell_type": "markdown",
      "metadata": {
        "id": "HxjyxyIfXQLn"
      },
      "source": [
        "##Decision Tree Classifier"
      ]
    },
    {
      "cell_type": "code",
      "metadata": {
        "id": "4IheUDeGngP8",
        "outputId": "f8ebf1d2-2633-4154-d8ec-e21f52311c38",
        "colab": {
          "base_uri": "https://localhost:8080/",
          "height": 33
        }
      },
      "source": [
        "clf = DecisionTreeClassifier(random_state = 1)\n",
        "_ = clf.fit(X_trn, y_trn)\n",
        "thr = .3\n",
        "preds_val = clf.predict_proba(X_val)[:,1]\n",
        "pred_val1 = np.where(preds_val>thr,1,0)\n",
        "\n",
        "f1_score(y_val, pred_val1)"
      ],
      "execution_count": null,
      "outputs": [
        {
          "output_type": "execute_result",
          "data": {
            "text/plain": [
              "0.5477239353891337"
            ]
          },
          "metadata": {
            "tags": []
          },
          "execution_count": 40
        }
      ]
    },
    {
      "cell_type": "code",
      "metadata": {
        "id": "xUwTIJ4yngy3"
      },
      "source": [
        "preds_test_decisiontree = clf.predict(X_test)\n"
      ],
      "execution_count": null,
      "outputs": []
    },
    {
      "cell_type": "markdown",
      "metadata": {
        "id": "sKrtdhV_XV3q"
      },
      "source": [
        "## Hyper Parameter Tuning "
      ]
    },
    {
      "cell_type": "code",
      "metadata": {
        "id": "JJ_FwuAunhLJ",
        "outputId": "1dbeb779-3db7-4c50-e33a-b83557daf276",
        "colab": {
          "base_uri": "https://localhost:8080/",
          "height": 115
        }
      },
      "source": [
        "\n",
        "from sklearn.model_selection import RandomizedSearchCV\n",
        "\n",
        "hyperparam_combs = {\n",
        "    'max_depth': [4, 6, 8, 10, 12, 14, 16],\n",
        "    'criterion': ['gini', 'entropy'],\n",
        "    'min_samples_split': [2, 10, 20, 30, 40],\n",
        "    'max_features': [0.2, 0.4, 0.6, 0.8, 1],\n",
        "    'max_leaf_nodes': [8, 16, 32, 64, 128,256],\n",
        "    'class_weight': [{0: 1, 1: 1}, {0: 1, 1: 2}, {0: 1, 1: 3}, {0: 1, 1: 4}, {0: 1, 1: 5}]\n",
        "}\n",
        "\n",
        "clf = RandomizedSearchCV(DecisionTreeClassifier(),\n",
        "                         hyperparam_combs,\n",
        "                         scoring='f1',\n",
        "                         random_state=1,\n",
        "                         n_iter=20)\n",
        "\n",
        "search = clf.fit(train_proc[features], train_proc[TARGET_COL])\n",
        "\n",
        "search.best_params_"
      ],
      "execution_count": null,
      "outputs": [
        {
          "output_type": "execute_result",
          "data": {
            "text/plain": [
              "{'class_weight': {0: 1, 1: 3},\n",
              " 'criterion': 'gini',\n",
              " 'max_depth': 10,\n",
              " 'max_features': 0.8,\n",
              " 'max_leaf_nodes': 128,\n",
              " 'min_samples_split': 40}"
            ]
          },
          "metadata": {
            "tags": []
          },
          "execution_count": 42
        }
      ]
    },
    {
      "cell_type": "code",
      "metadata": {
        "id": "fraSTKk2nhks",
        "outputId": "fd023e30-2e9d-499f-ac97-a48ffac7b87c",
        "colab": {
          "base_uri": "https://localhost:8080/",
          "height": 33
        }
      },
      "source": [
        "\n",
        "optimal_params = {'class_weight': {0: 1, 1: 4},\n",
        " 'criterion': 'entropy',\n",
        " 'max_depth': 14,\n",
        " 'max_features': 0.8,\n",
        " 'max_leaf_nodes': 32,\n",
        " 'min_samples_split': 10}\n",
        "\n",
        "clf = DecisionTreeClassifier(random_state = 1, **optimal_params)\n",
        "_ = clf.fit(X_trn, y_trn)\n",
        "\n",
        "preds_val = clf.predict(X_val)\n",
        "\n",
        "f1_score(y_val, preds_val)"
      ],
      "execution_count": null,
      "outputs": [
        {
          "output_type": "execute_result",
          "data": {
            "text/plain": [
              "0.5747592498732893"
            ]
          },
          "metadata": {
            "tags": []
          },
          "execution_count": 43
        }
      ]
    },
    {
      "cell_type": "code",
      "metadata": {
        "id": "ydpX64Zanhig"
      },
      "source": [
        "preds_test_randomsearch = clf.predict(X_test)"
      ],
      "execution_count": null,
      "outputs": []
    },
    {
      "cell_type": "code",
      "metadata": {
        "id": "H60HTl7cnhgC"
      },
      "source": [
        "from sklearn.model_selection import StratifiedKFold\n",
        "def run_clf_kfold(clf, train, test, features):\n",
        "\n",
        "  N_SPLITS = 5\n",
        "\n",
        "  oofs = np.zeros(len(train))\n",
        "  preds = np.zeros((len(test)))\n",
        "\n",
        "  folds = StratifiedKFold(n_splits = N_SPLITS)\n",
        "\n",
        "  for fold_, (trn_idx, val_idx) in enumerate(folds.split(train, train[TARGET_COL])):\n",
        "    print(f'\\n------------- Fold {fold_ + 1} -------------')\n",
        "\n",
        "    ############# Get train, validation and test sets along with targets ################\n",
        "  \n",
        "    ### Training Set\n",
        "    X_trn, y_trn = train[features].iloc[trn_idx], target.iloc[trn_idx]\n",
        "\n",
        "    ### Validation Set\n",
        "    X_val, y_val = train[features].iloc[val_idx], target.iloc[val_idx]\n",
        "\n",
        "    ### Test Set\n",
        "    X_test = test[features]\n",
        "\n",
        "    ############# Scaling Data ################\n",
        "    scaler = StandardScaler()\n",
        "    _ = scaler.fit(X_trn)\n",
        "\n",
        "    X_trn = scaler.transform(X_trn)\n",
        "    X_val = scaler.transform(X_val)\n",
        "    X_test = scaler.transform(X_test)\n",
        "\n",
        "\n",
        "    ############# Fitting and Predicting ################\n",
        "\n",
        "    _ = clf.fit(X_trn, y_trn)\n",
        "\n",
        "    ### Instead of directly predicting the classes we will obtain the probability of positive class.\n",
        "    preds_val = clf.predict_proba(X_val)[:, 1]\n",
        "    preds_test = clf.predict_proba(X_test)[:, 1]\n",
        "\n",
        "    fold_score = f1_score(y_val, preds_val.round())\n",
        "    print(f'\\nF1 score for validation set is {fold_score}')\n",
        "\n",
        "    oofs[val_idx] = preds_val\n",
        "    preds += preds_test / N_SPLITS\n",
        "\n",
        "\n",
        "  oofs_score = f1_score(target, oofs.round())\n",
        "  print(f'\\n\\nF1 score for oofs is {oofs_score}')\n",
        "\n",
        "  return oofs, preds"
      ],
      "execution_count": null,
      "outputs": []
    },
    {
      "cell_type": "code",
      "metadata": {
        "id": "zxDe_mLDnhcc"
      },
      "source": [
        "target = df_train[TARGET_COL]"
      ],
      "execution_count": null,
      "outputs": []
    },
    {
      "cell_type": "code",
      "metadata": {
        "id": "ocTDC4Xwnhaj",
        "outputId": "a2965759-2b76-4104-d3c1-222f08114187",
        "colab": {
          "base_uri": "https://localhost:8080/",
          "height": 391
        }
      },
      "source": [
        "dt_params = {'class_weight': {0: 1, 1: 2},\n",
        "             'criterion': 'gini',\n",
        "             'max_depth': 14,\n",
        "             'max_features': 0.8,\n",
        "             'max_leaf_nodes': 128,\n",
        "             'min_samples_split': 20,\n",
        "             'random_state': 1\n",
        "             }\n",
        "\n",
        "clf = DecisionTreeClassifier(**dt_params)\n",
        "        \n",
        "\n",
        "dt_oofs, dt_preds = run_clf_kfold(clf, train_proc, test_proc, features)"
      ],
      "execution_count": null,
      "outputs": [
        {
          "output_type": "stream",
          "text": [
            "\n",
            "------------- Fold 1 -------------\n",
            "\n",
            "F1 score for validation set is 0.625615763546798\n",
            "\n",
            "------------- Fold 2 -------------\n",
            "\n",
            "F1 score for validation set is 0.6243781094527363\n",
            "\n",
            "------------- Fold 3 -------------\n",
            "\n",
            "F1 score for validation set is 0.6224677716390423\n",
            "\n",
            "------------- Fold 4 -------------\n",
            "\n",
            "F1 score for validation set is 0.6266996291718171\n",
            "\n",
            "------------- Fold 5 -------------\n",
            "\n",
            "F1 score for validation set is 0.6136101499423299\n",
            "\n",
            "\n",
            "F1 score for oofs is 0.6224278582734689\n"
          ],
          "name": "stdout"
        }
      ]
    },
    {
      "cell_type": "code",
      "metadata": {
        "id": "KPXgZsXCnhXF"
      },
      "source": [
        "dt_preds_rounded_decisionclassifier = dt_preds.round()"
      ],
      "execution_count": null,
      "outputs": []
    },
    {
      "cell_type": "code",
      "metadata": {
        "id": "J-FT55UqnhVB",
        "outputId": "e3d1c355-0eb1-49c1-a7d3-8b2c523b4622",
        "colab": {
          "base_uri": "https://localhost:8080/",
          "height": 391
        }
      },
      "source": [
        "from lightgbm import LGBMClassifier\n",
        "\n",
        "clf = LGBMClassifier()\n",
        "lgb_oofs, lgb_preds = run_clf_kfold(clf, train_proc, test_proc, features)"
      ],
      "execution_count": null,
      "outputs": [
        {
          "output_type": "stream",
          "text": [
            "\n",
            "------------- Fold 1 -------------\n",
            "\n",
            "F1 score for validation set is 0.5828662930344275\n",
            "\n",
            "------------- Fold 2 -------------\n",
            "\n",
            "F1 score for validation set is 0.6142969363707776\n",
            "\n",
            "------------- Fold 3 -------------\n",
            "\n",
            "F1 score for validation set is 0.5863453815261044\n",
            "\n",
            "------------- Fold 4 -------------\n",
            "\n",
            "F1 score for validation set is 0.5857605177993527\n",
            "\n",
            "------------- Fold 5 -------------\n",
            "\n",
            "F1 score for validation set is 0.5778491171749599\n",
            "\n",
            "\n",
            "F1 score for oofs is 0.5895343254920787\n"
          ],
          "name": "stdout"
        }
      ]
    },
    {
      "cell_type": "code",
      "metadata": {
        "id": "1KYhFr1DnhSI"
      },
      "source": [
        "lgb_preds_rounded = lgb_preds.round()"
      ],
      "execution_count": null,
      "outputs": []
    },
    {
      "cell_type": "markdown",
      "metadata": {
        "id": "zBGwE4Z4ZgsV"
      },
      "source": [
        "##Optimal Threshold Score "
      ]
    },
    {
      "cell_type": "code",
      "metadata": {
        "id": "kLVeqdsPnhPX"
      },
      "source": [
        "thresholds = np.arange(0, 100)/100\n",
        "for thresh in thresholds:\n",
        "  oofs_rounded = (lgb_oofs > thresh) * 1\n",
        "  thresh_score = f1_score(target, oofs_rounded)\n",
        "#   print(f'Threshold {thresh}: {thresh_score}')"
      ],
      "execution_count": null,
      "outputs": []
    },
    {
      "cell_type": "code",
      "metadata": {
        "id": "N-JrHR3unhId"
      },
      "source": [
        "def get_optimal_f1_thresh(target, oofs):\n",
        "  thresholds = np.arange(0, 100)/100\n",
        "  thresh_scores = []\n",
        "  for thresh in thresholds:\n",
        "    oofs_rounded = (lgb_oofs > thresh) * 1\n",
        "    thresh_score = f1_score(target, oofs_rounded)\n",
        "    thresh_scores.append(thresh_score)\n",
        "  \n",
        "  all_thresholds_and_scores = pd.Series(index = thresholds, data = thresh_scores)\n",
        "  all_thresholds_and_scores.plot(figsize=(10, 6), fontsize=14)\n",
        "  \n",
        "  plt.xlabel('Threshold', fontsize=14)\n",
        "  plt.ylabel('F1 Score', fontsize=14)\n",
        "\n",
        "  return all_thresholds_and_scores.sort_values(ascending=False).index.values[0]"
      ],
      "execution_count": null,
      "outputs": []
    },
    {
      "cell_type": "code",
      "metadata": {
        "id": "3BIS12YXnhE0",
        "outputId": "9881af72-aba6-4106-dccc-f06ca0036987",
        "colab": {
          "base_uri": "https://localhost:8080/",
          "height": 425
        }
      },
      "source": [
        "optimal_thresh = get_optimal_f1_thresh(target, lgb_oofs)\n",
        "print(f'Optimal threhold is {optimal_thresh}')\n",
        "f1_score(target, (lgb_oofs > optimal_thresh) * 1)"
      ],
      "execution_count": null,
      "outputs": [
        {
          "output_type": "stream",
          "text": [
            "Optimal threhold is 0.29\n"
          ],
          "name": "stdout"
        },
        {
          "output_type": "execute_result",
          "data": {
            "text/plain": [
              "0.6570388349514563"
            ]
          },
          "metadata": {
            "tags": []
          },
          "execution_count": 53
        },
        {
          "output_type": "display_data",
          "data": {
            "image/png": "[encoded data removed]",
            "text/plain": [
              "<Figure size 720x432 with 1 Axes>"
            ]
          },
          "metadata": {
            "tags": []
          }
        }
      ]
    },
    {
      "cell_type": "code",
      "metadata": {
        "id": "DXdQLOEenhB8"
      },
      "source": [
        "lgb_preds_rounded = (lgb_preds > optimal_thresh) * 1"
      ],
      "execution_count": null,
      "outputs": []
    },
    {
      "cell_type": "code",
      "metadata": {
        "id": "QeRPkSJ_ng_O"
      },
      "source": [
        "del df_train['days_since_prev_campaign_contact']"
      ],
      "execution_count": null,
      "outputs": []
    },
    {
      "cell_type": "code",
      "metadata": {
        "id": "3wn0v8r-ng84"
      },
      "source": [
        "def run_gradient_boosting(clf, fit_params, train, test, features):\n",
        "  N_SPLITS = 5\n",
        "  oofs = np.zeros(len(train_proc))\n",
        "  preds = np.zeros((len(test_proc)))\n",
        "\n",
        "  folds = StratifiedKFold(n_splits = N_SPLITS)\n",
        "\n",
        "  for fold_, (trn_idx, val_idx) in enumerate(folds.split(train, train[TARGET_COL])):\n",
        "    print(f'\\n------------- Fold {fold_ + 1} -------------')\n",
        "\n",
        "    ### Training Set\n",
        "    X_trn, y_trn = train[features].iloc[trn_idx], target.iloc[trn_idx]\n",
        "\n",
        "    ### Validation Set\n",
        "    X_val, y_val = train[features].iloc[val_idx], target.iloc[val_idx]\n",
        "\n",
        "    ### Test Set\n",
        "    X_test = test[features]\n",
        "\n",
        "    scaler = StandardScaler()\n",
        "    _ = scaler.fit(X_trn)\n",
        "\n",
        "    X_trn = scaler.transform(X_trn)\n",
        "    X_val = scaler.transform(X_val)\n",
        "    X_test = scaler.transform(X_test)\n",
        "    \n",
        "    _ = clf.fit(X_trn, y_trn, eval_set = [(X_val, y_val)], **fit_params)\n",
        "\n",
        "    ### Instead of directly predicting the classes we will obtain the probability of positive class.\n",
        "    preds_val = clf.predict_proba(X_val)[:, 1]\n",
        "    preds_test = clf.predict_proba(X_test)[:, 1]\n",
        "\n",
        "    fold_score = f1_score(y_val, preds_val.round())\n",
        "    print(f'\\nF1 score for validation set is {fold_score}')\n",
        "\n",
        "    oofs[val_idx] = preds_val\n",
        "    preds += preds_test / N_SPLITS\n",
        "\n",
        "\n",
        "  oofs_score = f1_score(target, oofs.round())\n",
        "  print(f'\\n\\nF1 score for oofs is {oofs_score}')\n",
        "\n",
        "  return oofs, preds"
      ],
      "execution_count": null,
      "outputs": []
    },
    {
      "cell_type": "code",
      "metadata": {
        "id": "gUpicJ84ng67",
        "outputId": "e7dd0c79-895b-49a9-e5bb-ce4b31d5979d",
        "colab": {
          "base_uri": "https://localhost:8080/",
          "height": 716
        }
      },
      "source": [
        "clf = LGBMClassifier(n_estimators = 1000,\n",
        "                        learning_rate = 0.01,\n",
        "                        colsample_bytree = 0.76\n",
        "                        )\n",
        "fit_params = {'verbose': 1000, 'early_stopping_rounds': 1000}\n",
        "\n",
        "lgb_oofs, lgb_preds = run_gradient_boosting(clf, fit_params, train_proc, test_proc, features)\n"
      ],
      "execution_count": null,
      "outputs": [
        {
          "output_type": "stream",
          "text": [
            "\n",
            "------------- Fold 1 -------------\n",
            "Training until validation scores don't improve for 1000 rounds.\n",
            "[1000]\tvalid_0's binary_logloss: 0.164159\n",
            "Did not meet early stopping. Best iteration is:\n",
            "[698]\tvalid_0's binary_logloss: 0.163824\n",
            "\n",
            "F1 score for validation set is 0.5726141078838173\n",
            "\n",
            "------------- Fold 2 -------------\n",
            "Training until validation scores don't improve for 1000 rounds.\n",
            "[1000]\tvalid_0's binary_logloss: 0.156722\n",
            "Did not meet early stopping. Best iteration is:\n",
            "[1000]\tvalid_0's binary_logloss: 0.156722\n",
            "\n",
            "F1 score for validation set is 0.6086956521739131\n",
            "\n",
            "------------- Fold 3 -------------\n",
            "Training until validation scores don't improve for 1000 rounds.\n",
            "[1000]\tvalid_0's binary_logloss: 0.162026\n",
            "Did not meet early stopping. Best iteration is:\n",
            "[1000]\tvalid_0's binary_logloss: 0.162026\n",
            "\n",
            "F1 score for validation set is 0.5854838709677419\n",
            "\n",
            "------------- Fold 4 -------------\n",
            "Training until validation scores don't improve for 1000 rounds.\n",
            "[1000]\tvalid_0's binary_logloss: 0.158679\n",
            "Did not meet early stopping. Best iteration is:\n",
            "[1000]\tvalid_0's binary_logloss: 0.158679\n",
            "\n",
            "F1 score for validation set is 0.5915721231766613\n",
            "\n",
            "------------- Fold 5 -------------\n",
            "Training until validation scores don't improve for 1000 rounds.\n",
            "[1000]\tvalid_0's binary_logloss: 0.165769\n",
            "Did not meet early stopping. Best iteration is:\n",
            "[883]\tvalid_0's binary_logloss: 0.165711\n",
            "\n",
            "F1 score for validation set is 0.575831305758313\n",
            "\n",
            "\n",
            "F1 score for oofs is 0.5869353266168347\n"
          ],
          "name": "stdout"
        }
      ]
    },
    {
      "cell_type": "code",
      "metadata": {
        "id": "0XbD3ebuY_Xs",
        "outputId": "add329d4-ae06-4879-fc12-658a19d0b20a",
        "colab": {
          "base_uri": "https://localhost:8080/",
          "height": 425
        }
      },
      "source": [
        "optimal_thresh = get_optimal_f1_thresh(target, lgb_oofs)\n",
        "print(f'Optimal threhold is {optimal_thresh}')\n",
        "optimized_f1 = f1_score(target, (lgb_oofs > optimal_thresh) * 1)\n",
        "print(f'Optimized F1 is {optimized_f1}')"
      ],
      "execution_count": null,
      "outputs": [
        {
          "output_type": "stream",
          "text": [
            "Optimal threhold is 0.28\n",
            "Optimized F1 is 0.6603547459252158\n"
          ],
          "name": "stdout"
        },
        {
          "output_type": "display_data",
          "data": {
            "image/png": "[encoded data removed]",
            "text/plain": [
              "<Figure size 720x432 with 1 Axes>"
            ]
          },
          "metadata": {
            "tags": []
          }
        }
      ]
    },
    {
      "cell_type": "code",
      "metadata": {
        "id": "KcjGCnTMng3U"
      },
      "source": [
        "lgb_preds_rounded = (lgb_preds > optimal_thresh) * 1\n"
      ],
      "execution_count": null,
      "outputs": []
    },
    {
      "cell_type": "markdown",
      "metadata": {
        "id": "ouWmWbDQZpNW"
      },
      "source": [
        "#Submission"
      ]
    },
    {
      "cell_type": "code",
      "metadata": {
        "id": "OFk0SMDDngqF",
        "outputId": "5231e429-0e0a-4b17-d5b3-a1b5e88061f7",
        "colab": {
          "base_uri": "https://localhost:8080/",
          "height": 33
        }
      },
      "source": [
        "from collections import Counter\n",
        "submission['term_deposit_subscribed'] = lgb_preds_rounded\n",
        "submission.to_csv('finalmodel.csv')\n",
        "Counter(submission['term_deposit_subscribed'])"
      ],
      "execution_count": null,
      "outputs": [
        {
          "output_type": "execute_result",
          "data": {
            "text/plain": [
              "Counter({0: 11364, 1: 2200})"
            ]
          },
          "metadata": {
            "tags": []
          },
          "execution_count": 60
        }
      ]
    }
  ]
}